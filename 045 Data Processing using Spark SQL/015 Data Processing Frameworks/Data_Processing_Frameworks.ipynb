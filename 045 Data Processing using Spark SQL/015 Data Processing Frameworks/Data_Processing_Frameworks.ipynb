{
 "cells": [
  {
   "cell_type": "markdown",
   "metadata": {},
   "source": [
    "List the files in the data folder"
   ]
  },
  {
   "cell_type": "code",
   "execution_count": 1,
   "metadata": {},
   "outputs": [
    {
     "name": "stdout",
     "output_type": "stream",
     "text": [
      "total 272040\n",
      "-rw-r--r--@ 1 woodzsan  staff   3842443 Jan 12 14:00 NYSE_1997.txt.gz\n",
      "-rw-r--r--@ 1 woodzsan  staff   4142942 Jan 12 14:00 NYSE_1998.txt.gz\n",
      "-rw-r--r--@ 1 woodzsan  staff   4297025 Jan 12 14:00 NYSE_1999.txt.gz\n",
      "-rw-r--r--@ 1 woodzsan  staff   4439306 Jan 12 14:00 NYSE_2000.txt.gz\n",
      "-rw-r--r--@ 1 woodzsan  staff   4722623 Jan 12 14:00 NYSE_2001.txt.gz\n",
      "-rw-r--r--@ 1 woodzsan  staff   5021940 Jan 12 14:00 NYSE_2002.txt.gz\n",
      "-rw-r--r--@ 1 woodzsan  staff   5271305 Jan 12 14:00 NYSE_2003.txt.gz\n",
      "-rw-r--r--@ 1 woodzsan  staff   5689069 Jan 12 14:00 NYSE_2004.txt.gz\n",
      "-rw-r--r--@ 1 woodzsan  staff   6207833 Jan 12 14:00 NYSE_2005.txt.gz\n",
      "-rw-r--r--@ 1 woodzsan  staff   6480175 Jan 12 14:00 NYSE_2006.txt.gz\n",
      "-rw-r--r--@ 1 woodzsan  staff   6903056 Jan 12 14:00 NYSE_2007.txt.gz\n",
      "-rw-r--r--@ 1 woodzsan  staff   7179621 Jan 12 14:00 NYSE_2008.txt.gz\n",
      "-rw-r--r--@ 1 woodzsan  staff   7186235 Jan 12 14:00 NYSE_2009.txt.gz\n",
      "-rw-r--r--@ 1 woodzsan  staff   7551218 Jan 12 14:00 NYSE_2010.txt.gz\n",
      "-rw-r--r--@ 1 woodzsan  staff   7980961 Jan 12 14:00 NYSE_2011.txt.gz\n",
      "-rw-r--r--@ 1 woodzsan  staff   8538688 Jan 12 14:00 NYSE_2012.txt.gz\n",
      "-rw-r--r--@ 1 woodzsan  staff   9588984 Jan 12 14:00 NYSE_2013.txt.gz\n",
      "-rw-r--r--@ 1 woodzsan  staff  10552757 Jan 12 14:00 NYSE_2014.txt.gz\n",
      "-rw-r--r--@ 1 woodzsan  staff  11327417 Jan 12 14:00 NYSE_2015.txt.gz\n",
      "-rw-r--r--@ 1 woodzsan  staff  11796756 Jan 12 14:00 NYSE_2016.txt.gz\n",
      "-rw-r--r--@ 1 woodzsan  staff    519586 Jan 12 14:00 NYSE_2017.txt.gz\n"
     ]
    }
   ],
   "source": [
    "!ls -ltr data/nyse_all/nyse_data"
   ]
  },
  {
   "cell_type": "markdown",
   "metadata": {},
   "source": [
    "Pandas code"
   ]
  },
  {
   "cell_type": "code",
   "execution_count": null,
   "metadata": {},
   "outputs": [],
   "source": [
    "# !pip install pandas"
   ]
  },
  {
   "cell_type": "code",
   "execution_count": 5,
   "metadata": {},
   "outputs": [
    {
     "data": {
      "text/plain": [
       "9384739"
      ]
     },
     "execution_count": 5,
     "metadata": {},
     "output_type": "execute_result"
    }
   ],
   "source": [
    "import glob\n",
    "import pandas as pd\n",
    "\n",
    "files = glob.glob('data/nyse_all/nyse_data/*')  # get all files in the directory\n",
    "rec_count = 0\n",
    "\n",
    "for file in files:\n",
    "    df = pd.read_csv(\n",
    "        file,\n",
    "        names=['stock_id', 'trans_date', 'open_price', 'low_price', 'high_price', 'volume', 'close_price']\n",
    "        )    \n",
    "    rec_count += df.shape[0]\n",
    "\n",
    "rec_count"
   ]
  },
  {
   "cell_type": "markdown",
   "metadata": {},
   "source": [
    "Dask code"
   ]
  },
  {
   "cell_type": "code",
   "execution_count": null,
   "metadata": {},
   "outputs": [
    {
     "name": "stdout",
     "output_type": "stream",
     "text": [
      "Requirement already satisfied: dask[complete] in ./dpf-venv/lib/python3.13/site-packages (2024.12.1)\n",
      "Requirement already satisfied: click>=8.1 in ./dpf-venv/lib/python3.13/site-packages (from dask[complete]) (8.1.8)\n",
      "Requirement already satisfied: cloudpickle>=3.0.0 in ./dpf-venv/lib/python3.13/site-packages (from dask[complete]) (3.1.0)\n",
      "Requirement already satisfied: fsspec>=2021.09.0 in ./dpf-venv/lib/python3.13/site-packages (from dask[complete]) (2024.12.0)\n",
      "Requirement already satisfied: packaging>=20.0 in ./dpf-venv/lib/python3.13/site-packages (from dask[complete]) (24.2)\n",
      "Requirement already satisfied: partd>=1.4.0 in ./dpf-venv/lib/python3.13/site-packages (from dask[complete]) (1.4.2)\n",
      "Requirement already satisfied: pyyaml>=5.3.1 in ./dpf-venv/lib/python3.13/site-packages (from dask[complete]) (6.0.2)\n",
      "Requirement already satisfied: toolz>=0.10.0 in ./dpf-venv/lib/python3.13/site-packages (from dask[complete]) (1.0.0)\n",
      "Collecting pyarrow>=14.0.1 (from dask[complete])\n",
      "  Downloading pyarrow-18.1.0-cp313-cp313-macosx_12_0_arm64.whl.metadata (3.3 kB)\n",
      "Collecting lz4>=4.3.2 (from dask[complete])\n",
      "  Downloading lz4-4.3.3.tar.gz (171 kB)\n",
      "  Installing build dependencies ... \u001b[?25ldone\n",
      "\u001b[?25h  Getting requirements to build wheel ... \u001b[?25ldone\n",
      "\u001b[?25h  Preparing metadata (pyproject.toml) ... \u001b[?25ldone\n",
      "\u001b[?25hRequirement already satisfied: locket in ./dpf-venv/lib/python3.13/site-packages (from partd>=1.4.0->dask[complete]) (1.0.0)\n",
      "Requirement already satisfied: numpy>=1.24 in ./dpf-venv/lib/python3.13/site-packages (from dask[complete]) (2.2.1)\n",
      "Requirement already satisfied: pandas>=2.0 in ./dpf-venv/lib/python3.13/site-packages (from dask[complete]) (2.2.3)\n",
      "Collecting dask-expr<1.2,>=1.1 (from dask[complete])\n",
      "  Downloading dask_expr-1.1.21-py3-none-any.whl.metadata (2.6 kB)\n",
      "Collecting distributed==2024.12.1 (from dask[complete])\n",
      "  Downloading distributed-2024.12.1-py3-none-any.whl.metadata (3.3 kB)\n",
      "Collecting bokeh>=3.1.0 (from dask[complete])\n",
      "  Downloading bokeh-3.6.2-py3-none-any.whl.metadata (12 kB)\n",
      "Collecting jinja2>=2.10.3 (from dask[complete])\n",
      "  Downloading jinja2-3.1.5-py3-none-any.whl.metadata (2.6 kB)\n",
      "Collecting msgpack>=1.0.2 (from distributed==2024.12.1->dask[complete])\n",
      "  Downloading msgpack-1.1.0-cp313-cp313-macosx_11_0_arm64.whl.metadata (8.4 kB)\n",
      "Requirement already satisfied: psutil>=5.8.0 in ./dpf-venv/lib/python3.13/site-packages (from distributed==2024.12.1->dask[complete]) (6.1.1)\n",
      "Collecting sortedcontainers>=2.0.5 (from distributed==2024.12.1->dask[complete])\n",
      "  Downloading sortedcontainers-2.4.0-py2.py3-none-any.whl.metadata (10 kB)\n",
      "Collecting tblib>=1.6.0 (from distributed==2024.12.1->dask[complete])\n",
      "  Downloading tblib-3.0.0-py3-none-any.whl.metadata (25 kB)\n",
      "Requirement already satisfied: tornado>=6.2.0 in ./dpf-venv/lib/python3.13/site-packages (from distributed==2024.12.1->dask[complete]) (6.4.2)\n",
      "Collecting urllib3>=1.26.5 (from distributed==2024.12.1->dask[complete])\n",
      "  Downloading urllib3-2.3.0-py3-none-any.whl.metadata (6.5 kB)\n",
      "Collecting zict>=3.0.0 (from distributed==2024.12.1->dask[complete])\n",
      "  Downloading zict-3.0.0-py2.py3-none-any.whl.metadata (899 bytes)\n",
      "Collecting contourpy>=1.2 (from bokeh>=3.1.0->dask[complete])\n",
      "  Downloading contourpy-1.3.1-cp313-cp313-macosx_11_0_arm64.whl.metadata (5.4 kB)\n",
      "Collecting pillow>=7.1.0 (from bokeh>=3.1.0->dask[complete])\n",
      "  Downloading pillow-11.1.0-cp313-cp313-macosx_11_0_arm64.whl.metadata (9.1 kB)\n",
      "Collecting xyzservices>=2021.09.1 (from bokeh>=3.1.0->dask[complete])\n",
      "  Downloading xyzservices-2024.9.0-py3-none-any.whl.metadata (4.1 kB)\n",
      "Collecting MarkupSafe>=2.0 (from jinja2>=2.10.3->dask[complete])\n",
      "  Downloading MarkupSafe-3.0.2-cp313-cp313-macosx_11_0_arm64.whl.metadata (4.0 kB)\n",
      "Requirement already satisfied: python-dateutil>=2.8.2 in ./dpf-venv/lib/python3.13/site-packages (from pandas>=2.0->dask[complete]) (2.9.0.post0)\n",
      "Requirement already satisfied: pytz>=2020.1 in ./dpf-venv/lib/python3.13/site-packages (from pandas>=2.0->dask[complete]) (2024.2)\n",
      "Requirement already satisfied: tzdata>=2022.7 in ./dpf-venv/lib/python3.13/site-packages (from pandas>=2.0->dask[complete]) (2024.2)\n",
      "Requirement already satisfied: six>=1.5 in ./dpf-venv/lib/python3.13/site-packages (from python-dateutil>=2.8.2->pandas>=2.0->dask[complete]) (1.17.0)\n",
      "Downloading pyarrow-18.1.0-cp313-cp313-macosx_12_0_arm64.whl (29.5 MB)\n",
      "\u001b[2K   \u001b[90m━━━━━━━━━━━━━━━━━━━━━━━━━━━━━━━━━━━━━━━━\u001b[0m \u001b[32m29.5/29.5 MB\u001b[0m \u001b[31m54.1 MB/s\u001b[0m eta \u001b[36m0:00:00\u001b[0ma \u001b[36m0:00:01\u001b[0m\n",
      "\u001b[?25hDownloading distributed-2024.12.1-py3-none-any.whl (1.0 MB)\n",
      "\u001b[2K   \u001b[90m━━━━━━━━━━━━━━━━━━━━━━━━━━━━━━━━━━━━━━━━\u001b[0m \u001b[32m1.0/1.0 MB\u001b[0m \u001b[31m22.4 MB/s\u001b[0m eta \u001b[36m0:00:00\u001b[0m\n",
      "\u001b[?25hDownloading bokeh-3.6.2-py3-none-any.whl (6.9 MB)\n",
      "\u001b[2K   \u001b[90m━━━━━━━━━━━━━━━━━━━━━━━━━━━━━━━━━━━━━━━━\u001b[0m \u001b[32m6.9/6.9 MB\u001b[0m \u001b[31m36.4 MB/s\u001b[0m eta \u001b[36m0:00:00\u001b[0m\n",
      "\u001b[?25hDownloading dask_expr-1.1.21-py3-none-any.whl (244 kB)\n",
      "Downloading jinja2-3.1.5-py3-none-any.whl (134 kB)\n",
      "Downloading contourpy-1.3.1-cp313-cp313-macosx_11_0_arm64.whl (255 kB)\n",
      "Downloading MarkupSafe-3.0.2-cp313-cp313-macosx_11_0_arm64.whl (12 kB)\n",
      "Downloading msgpack-1.1.0-cp313-cp313-macosx_11_0_arm64.whl (81 kB)\n",
      "Downloading pillow-11.1.0-cp313-cp313-macosx_11_0_arm64.whl (3.1 MB)\n",
      "\u001b[2K   \u001b[90m━━━━━━━━━━━━━━━━━━━━━━━━━━━━━━━━━━━━━━━━\u001b[0m \u001b[32m3.1/3.1 MB\u001b[0m \u001b[31m34.0 MB/s\u001b[0m eta \u001b[36m0:00:00\u001b[0m\n",
      "\u001b[?25hDownloading sortedcontainers-2.4.0-py2.py3-none-any.whl (29 kB)\n",
      "Downloading tblib-3.0.0-py3-none-any.whl (12 kB)\n",
      "Downloading urllib3-2.3.0-py3-none-any.whl (128 kB)\n",
      "Downloading xyzservices-2024.9.0-py3-none-any.whl (85 kB)\n",
      "Downloading zict-3.0.0-py2.py3-none-any.whl (43 kB)\n",
      "Building wheels for collected packages: lz4\n",
      "  Building wheel for lz4 (pyproject.toml) ... \u001b[?25ldone\n",
      "\u001b[?25h  Created wheel for lz4: filename=lz4-4.3.3-cp313-cp313-macosx_15_0_arm64.whl size=28892 sha256=539c6633ba5a4338d4e0e6861476960ced66e77b8389a592257b94a2d9583bd4\n",
      "  Stored in directory: /Users/woodzsan/Library/Caches/pip/wheels/30/97/06/82f1096d8a2ecaa4352993c75b39e5fd48e337c680d913d719\n",
      "Successfully built lz4\n",
      "Installing collected packages: sortedcontainers, zict, xyzservices, urllib3, tblib, pyarrow, pillow, msgpack, MarkupSafe, lz4, contourpy, jinja2, distributed, dask-expr, bokeh\n",
      "Successfully installed MarkupSafe-3.0.2 bokeh-3.6.2 contourpy-1.3.1 dask-expr-1.1.21 distributed-2024.12.1 jinja2-3.1.5 lz4-4.3.3 msgpack-1.1.0 pillow-11.1.0 pyarrow-18.1.0 sortedcontainers-2.4.0 tblib-3.0.0 urllib3-2.3.0 xyzservices-2024.9.0 zict-3.0.0\n"
     ]
    }
   ],
   "source": [
    "# !pip install dask\\[complete\\]"
   ]
  },
  {
   "cell_type": "code",
   "execution_count": 13,
   "metadata": {},
   "outputs": [
    {
     "data": {
      "text/plain": [
       "9384739"
      ]
     },
     "execution_count": 13,
     "metadata": {},
     "output_type": "execute_result"
    }
   ],
   "source": [
    "import dask.dataframe as dd\n",
    "\n",
    "df = dd.read_csv(\n",
    "    'data/nyse_all/nyse_data/*',\n",
    "    names=['stock_id', 'trans_date', 'open_price', 'low_price', 'high_price', 'volume', 'close_price'],\n",
    "    blocksize=None\n",
    ")\n",
    "    \n",
    "df.shape[0].compute()"
   ]
  }
 ],
 "metadata": {
  "kernelspec": {
   "display_name": "dpf-venv",
   "language": "python",
   "name": "python3"
  },
  "language_info": {
   "codemirror_mode": {
    "name": "ipython",
    "version": 3
   },
   "file_extension": ".py",
   "mimetype": "text/x-python",
   "name": "python",
   "nbconvert_exporter": "python",
   "pygments_lexer": "ipython3",
   "version": "3.13.1"
  }
 },
 "nbformat": 4,
 "nbformat_minor": 2
}
