{
 "cells": [
  {
   "cell_type": "markdown",
   "metadata": {},
   "source": [
    "List the files in the data folder"
   ]
  },
  {
   "cell_type": "code",
   "execution_count": 3,
   "metadata": {},
   "outputs": [
    {
     "name": "stdout",
     "output_type": "stream",
     "text": [
      "total 272040\n",
      "-rw-r--r--@ 1 woodzsan  staff   3842443 Jan 12 14:00 NYSE_1997.txt.gz\n",
      "-rw-r--r--@ 1 woodzsan  staff   4142942 Jan 12 14:00 NYSE_1998.txt.gz\n",
      "-rw-r--r--@ 1 woodzsan  staff   4297025 Jan 12 14:00 NYSE_1999.txt.gz\n",
      "-rw-r--r--@ 1 woodzsan  staff   4439306 Jan 12 14:00 NYSE_2000.txt.gz\n",
      "-rw-r--r--@ 1 woodzsan  staff   4722623 Jan 12 14:00 NYSE_2001.txt.gz\n",
      "-rw-r--r--@ 1 woodzsan  staff   5021940 Jan 12 14:00 NYSE_2002.txt.gz\n",
      "-rw-r--r--@ 1 woodzsan  staff   5271305 Jan 12 14:00 NYSE_2003.txt.gz\n",
      "-rw-r--r--@ 1 woodzsan  staff   5689069 Jan 12 14:00 NYSE_2004.txt.gz\n",
      "-rw-r--r--@ 1 woodzsan  staff   6207833 Jan 12 14:00 NYSE_2005.txt.gz\n",
      "-rw-r--r--@ 1 woodzsan  staff   6480175 Jan 12 14:00 NYSE_2006.txt.gz\n",
      "-rw-r--r--@ 1 woodzsan  staff   6903056 Jan 12 14:00 NYSE_2007.txt.gz\n",
      "-rw-r--r--@ 1 woodzsan  staff   7179621 Jan 12 14:00 NYSE_2008.txt.gz\n",
      "-rw-r--r--@ 1 woodzsan  staff   7186235 Jan 12 14:00 NYSE_2009.txt.gz\n",
      "-rw-r--r--@ 1 woodzsan  staff   7551218 Jan 12 14:00 NYSE_2010.txt.gz\n",
      "-rw-r--r--@ 1 woodzsan  staff   7980961 Jan 12 14:00 NYSE_2011.txt.gz\n",
      "-rw-r--r--@ 1 woodzsan  staff   8538688 Jan 12 14:00 NYSE_2012.txt.gz\n",
      "-rw-r--r--@ 1 woodzsan  staff   9588984 Jan 12 14:00 NYSE_2013.txt.gz\n",
      "-rw-r--r--@ 1 woodzsan  staff  10552757 Jan 12 14:00 NYSE_2014.txt.gz\n",
      "-rw-r--r--@ 1 woodzsan  staff  11327417 Jan 12 14:00 NYSE_2015.txt.gz\n",
      "-rw-r--r--@ 1 woodzsan  staff  11796756 Jan 12 14:00 NYSE_2016.txt.gz\n",
      "-rw-r--r--@ 1 woodzsan  staff    519586 Jan 12 14:00 NYSE_2017.txt.gz\n"
     ]
    }
   ],
   "source": [
    "!ls -ltr data/nyse_all/nyse_data"
   ]
  },
  {
   "cell_type": "markdown",
   "metadata": {},
   "source": [
    "Pandas code"
   ]
  },
  {
   "cell_type": "code",
   "execution_count": 4,
   "metadata": {},
   "outputs": [
    {
     "name": "stdout",
     "output_type": "stream",
     "text": [
      "Requirement already satisfied: pandas in ./dpf-venv/lib/python3.13/site-packages (2.2.3)\n",
      "Requirement already satisfied: numpy>=1.26.0 in ./dpf-venv/lib/python3.13/site-packages (from pandas) (2.2.1)\n",
      "Requirement already satisfied: python-dateutil>=2.8.2 in ./dpf-venv/lib/python3.13/site-packages (from pandas) (2.9.0.post0)\n",
      "Requirement already satisfied: pytz>=2020.1 in ./dpf-venv/lib/python3.13/site-packages (from pandas) (2024.2)\n",
      "Requirement already satisfied: tzdata>=2022.7 in ./dpf-venv/lib/python3.13/site-packages (from pandas) (2024.2)\n",
      "Requirement already satisfied: six>=1.5 in ./dpf-venv/lib/python3.13/site-packages (from python-dateutil>=2.8.2->pandas) (1.17.0)\n"
     ]
    }
   ],
   "source": [
    "!pip install pandas"
   ]
  },
  {
   "cell_type": "code",
   "execution_count": 5,
   "metadata": {},
   "outputs": [
    {
     "data": {
      "text/plain": [
       "9384739"
      ]
     },
     "execution_count": 5,
     "metadata": {},
     "output_type": "execute_result"
    }
   ],
   "source": [
    "import glob\n",
    "import pandas as pd\n",
    "\n",
    "files = glob.glob('data/nyse_all/nyse_data/*')  # get all files in the directory\n",
    "rec_count = 0\n",
    "\n",
    "for file in files:\n",
    "    df = pd.read_csv(\n",
    "        file,\n",
    "        names=['stock_id', 'trans_date', 'open_price', 'low_price', 'high_price', 'close_price', 'volume']\n",
    "        )    \n",
    "    rec_count += df.shape[0]\n",
    "\n",
    "rec_count"
   ]
  },
  {
   "cell_type": "markdown",
   "metadata": {},
   "source": [
    "Dask code"
   ]
  },
  {
   "cell_type": "code",
   "execution_count": 6,
   "metadata": {},
   "outputs": [
    {
     "name": "stdout",
     "output_type": "stream",
     "text": [
      "Requirement already satisfied: dask[complete] in ./dpf-venv/lib/python3.13/site-packages (2024.12.1)\n",
      "Requirement already satisfied: click>=8.1 in ./dpf-venv/lib/python3.13/site-packages (from dask[complete]) (8.1.8)\n",
      "Requirement already satisfied: cloudpickle>=3.0.0 in ./dpf-venv/lib/python3.13/site-packages (from dask[complete]) (3.1.0)\n",
      "Requirement already satisfied: fsspec>=2021.09.0 in ./dpf-venv/lib/python3.13/site-packages (from dask[complete]) (2024.12.0)\n",
      "Requirement already satisfied: packaging>=20.0 in ./dpf-venv/lib/python3.13/site-packages (from dask[complete]) (24.2)\n",
      "Requirement already satisfied: partd>=1.4.0 in ./dpf-venv/lib/python3.13/site-packages (from dask[complete]) (1.4.2)\n",
      "Requirement already satisfied: pyyaml>=5.3.1 in ./dpf-venv/lib/python3.13/site-packages (from dask[complete]) (6.0.2)\n",
      "Requirement already satisfied: toolz>=0.10.0 in ./dpf-venv/lib/python3.13/site-packages (from dask[complete]) (1.0.0)\n",
      "Requirement already satisfied: pyarrow>=14.0.1 in ./dpf-venv/lib/python3.13/site-packages (from dask[complete]) (18.1.0)\n",
      "Requirement already satisfied: lz4>=4.3.2 in ./dpf-venv/lib/python3.13/site-packages (from dask[complete]) (4.3.3)\n",
      "Requirement already satisfied: locket in ./dpf-venv/lib/python3.13/site-packages (from partd>=1.4.0->dask[complete]) (1.0.0)\n",
      "Requirement already satisfied: numpy>=1.24 in ./dpf-venv/lib/python3.13/site-packages (from dask[complete]) (2.2.1)\n",
      "Requirement already satisfied: pandas>=2.0 in ./dpf-venv/lib/python3.13/site-packages (from dask[complete]) (2.2.3)\n",
      "Requirement already satisfied: dask-expr<1.2,>=1.1 in ./dpf-venv/lib/python3.13/site-packages (from dask[complete]) (1.1.21)\n",
      "Requirement already satisfied: distributed==2024.12.1 in ./dpf-venv/lib/python3.13/site-packages (from dask[complete]) (2024.12.1)\n",
      "Requirement already satisfied: bokeh>=3.1.0 in ./dpf-venv/lib/python3.13/site-packages (from dask[complete]) (3.6.2)\n",
      "Requirement already satisfied: jinja2>=2.10.3 in ./dpf-venv/lib/python3.13/site-packages (from dask[complete]) (3.1.5)\n",
      "Requirement already satisfied: msgpack>=1.0.2 in ./dpf-venv/lib/python3.13/site-packages (from distributed==2024.12.1->dask[complete]) (1.1.0)\n",
      "Requirement already satisfied: psutil>=5.8.0 in ./dpf-venv/lib/python3.13/site-packages (from distributed==2024.12.1->dask[complete]) (6.1.1)\n",
      "Requirement already satisfied: sortedcontainers>=2.0.5 in ./dpf-venv/lib/python3.13/site-packages (from distributed==2024.12.1->dask[complete]) (2.4.0)\n",
      "Requirement already satisfied: tblib>=1.6.0 in ./dpf-venv/lib/python3.13/site-packages (from distributed==2024.12.1->dask[complete]) (3.0.0)\n",
      "Requirement already satisfied: tornado>=6.2.0 in ./dpf-venv/lib/python3.13/site-packages (from distributed==2024.12.1->dask[complete]) (6.4.2)\n",
      "Requirement already satisfied: urllib3>=1.26.5 in ./dpf-venv/lib/python3.13/site-packages (from distributed==2024.12.1->dask[complete]) (2.3.0)\n",
      "Requirement already satisfied: zict>=3.0.0 in ./dpf-venv/lib/python3.13/site-packages (from distributed==2024.12.1->dask[complete]) (3.0.0)\n",
      "Requirement already satisfied: contourpy>=1.2 in ./dpf-venv/lib/python3.13/site-packages (from bokeh>=3.1.0->dask[complete]) (1.3.1)\n",
      "Requirement already satisfied: pillow>=7.1.0 in ./dpf-venv/lib/python3.13/site-packages (from bokeh>=3.1.0->dask[complete]) (11.1.0)\n",
      "Requirement already satisfied: xyzservices>=2021.09.1 in ./dpf-venv/lib/python3.13/site-packages (from bokeh>=3.1.0->dask[complete]) (2024.9.0)\n",
      "Requirement already satisfied: MarkupSafe>=2.0 in ./dpf-venv/lib/python3.13/site-packages (from jinja2>=2.10.3->dask[complete]) (3.0.2)\n",
      "Requirement already satisfied: python-dateutil>=2.8.2 in ./dpf-venv/lib/python3.13/site-packages (from pandas>=2.0->dask[complete]) (2.9.0.post0)\n",
      "Requirement already satisfied: pytz>=2020.1 in ./dpf-venv/lib/python3.13/site-packages (from pandas>=2.0->dask[complete]) (2024.2)\n",
      "Requirement already satisfied: tzdata>=2022.7 in ./dpf-venv/lib/python3.13/site-packages (from pandas>=2.0->dask[complete]) (2024.2)\n",
      "Requirement already satisfied: six>=1.5 in ./dpf-venv/lib/python3.13/site-packages (from python-dateutil>=2.8.2->pandas>=2.0->dask[complete]) (1.17.0)\n"
     ]
    }
   ],
   "source": [
    "!pip install dask\\[complete\\]"
   ]
  },
  {
   "cell_type": "code",
   "execution_count": 7,
   "metadata": {},
   "outputs": [
    {
     "data": {
      "text/plain": [
       "9384739"
      ]
     },
     "execution_count": 7,
     "metadata": {},
     "output_type": "execute_result"
    }
   ],
   "source": [
    "import dask.dataframe as dd\n",
    "\n",
    "df = dd.read_csv(\n",
    "    'data/nyse_all/nyse_data/*',\n",
    "    names=['stock_id', 'trans_date', 'open_price', 'low_price', 'high_price', 'close_price', 'volume'],\n",
    "    blocksize=None\n",
    "    )\n",
    "    \n",
    "df.shape[0].compute()"
   ]
  },
  {
   "cell_type": "markdown",
   "metadata": {},
   "source": [
    "PySpark code"
   ]
  },
  {
   "cell_type": "code",
   "execution_count": 8,
   "metadata": {},
   "outputs": [
    {
     "name": "stdout",
     "output_type": "stream",
     "text": [
      "Requirement already satisfied: pyspark in ./dpf-venv/lib/python3.13/site-packages (3.5.4)\n",
      "Requirement already satisfied: py4j==0.10.9.7 in ./dpf-venv/lib/python3.13/site-packages (from pyspark) (0.10.9.7)\n"
     ]
    }
   ],
   "source": [
    "!pip install pyspark\n"
   ]
  },
  {
   "cell_type": "code",
   "execution_count": 9,
   "metadata": {},
   "outputs": [
    {
     "name": "stderr",
     "output_type": "stream",
     "text": [
      "/Users/woodzsan/Desktop/Machine Learning and Data Analysis/Data-Engineering-Essentials/045 Data Processing using Spark SQL/015 Data Processing Frameworks/dpf-venv/lib/python3.13/site-packages/pyspark/bin/spark-class: line 71: /Users/woodzsan/Library/Caches/Coursier/jvm/adopt@1.11.0-11/Contents/Home/bin/java: No such file or directory\n",
      "/Users/woodzsan/Desktop/Machine Learning and Data Analysis/Data-Engineering-Essentials/045 Data Processing using Spark SQL/015 Data Processing Frameworks/dpf-venv/lib/python3.13/site-packages/pyspark/bin/spark-class: line 97: CMD: bad array subscript\n",
      "head: illegal line count -- -1\n"
     ]
    },
    {
     "ename": "PySparkRuntimeError",
     "evalue": "[JAVA_GATEWAY_EXITED] Java gateway process exited before sending its port number.",
     "output_type": "error",
     "traceback": [
      "\u001b[0;31m---------------------------------------------------------------------------\u001b[0m",
      "\u001b[0;31mPySparkRuntimeError\u001b[0m                       Traceback (most recent call last)",
      "Cell \u001b[0;32mIn[9], line 7\u001b[0m\n\u001b[1;32m      1\u001b[0m \u001b[38;5;28;01mfrom\u001b[39;00m\u001b[38;5;250m \u001b[39m\u001b[38;5;21;01mpyspark\u001b[39;00m\u001b[38;5;21;01m.\u001b[39;00m\u001b[38;5;21;01msql\u001b[39;00m\u001b[38;5;250m \u001b[39m\u001b[38;5;28;01mimport\u001b[39;00m SparkSession\n\u001b[1;32m      3\u001b[0m spark \u001b[38;5;241m=\u001b[39m \u001b[43mSparkSession\u001b[49m\u001b[38;5;241;43m.\u001b[39;49m\u001b[43m \u001b[49m\u001b[43m\\\u001b[49m\n\u001b[1;32m      4\u001b[0m \u001b[43m    \u001b[49m\u001b[43mbuilder\u001b[49m\u001b[38;5;241;43m.\u001b[39;49m\u001b[43m \u001b[49m\u001b[43m\\\u001b[49m\n\u001b[1;32m      5\u001b[0m \u001b[43m    \u001b[49m\u001b[43mappName\u001b[49m\u001b[43m(\u001b[49m\u001b[38;5;124;43m'\u001b[39;49m\u001b[38;5;124;43mNYSE Count\u001b[39;49m\u001b[38;5;124;43m'\u001b[39;49m\u001b[43m)\u001b[49m\u001b[38;5;241;43m.\u001b[39;49m\u001b[43m \u001b[49m\u001b[43m\\\u001b[49m\n\u001b[1;32m      6\u001b[0m \u001b[43m    \u001b[49m\u001b[43mmaster\u001b[49m\u001b[43m(\u001b[49m\u001b[38;5;124;43m'\u001b[39;49m\u001b[38;5;124;43mlocal\u001b[39;49m\u001b[38;5;124;43m'\u001b[39;49m\u001b[43m)\u001b[49m\u001b[38;5;241;43m.\u001b[39;49m\u001b[43m \u001b[49m\u001b[43m\\\u001b[49m\n\u001b[0;32m----> 7\u001b[0m \u001b[43m    \u001b[49m\u001b[43mgetOrCreate\u001b[49m\u001b[43m(\u001b[49m\u001b[43m)\u001b[49m\n\u001b[1;32m      9\u001b[0m df \u001b[38;5;241m=\u001b[39m spark\u001b[38;5;241m.\u001b[39mread\u001b[38;5;241m.\u001b[39mcsv(\u001b[38;5;124m'\u001b[39m\u001b[38;5;124mdata/nyse_all/nyse_data/*\u001b[39m\u001b[38;5;124m'\u001b[39m, \n\u001b[1;32m     10\u001b[0m                     schema\u001b[38;5;241m=\u001b[39m\u001b[38;5;124m'''\u001b[39m\n\u001b[1;32m     11\u001b[0m \u001b[38;5;124m                    stock_id STRING, trans_date STRING, open_price FLOAT, low_price FLOAT, \u001b[39m\n\u001b[1;32m     12\u001b[0m \u001b[38;5;124m                    high_price FLOAT, close_price FLOAT, volume BIGINT\u001b[39m\u001b[38;5;124m'''\u001b[39m\n\u001b[1;32m     13\u001b[0m                     )\n\u001b[1;32m     15\u001b[0m df\u001b[38;5;241m.\u001b[39mcount()\n",
      "File \u001b[0;32m~/Desktop/Machine Learning and Data Analysis/Data-Engineering-Essentials/045 Data Processing using Spark SQL/015 Data Processing Frameworks/dpf-venv/lib/python3.13/site-packages/pyspark/sql/session.py:497\u001b[0m, in \u001b[0;36mSparkSession.Builder.getOrCreate\u001b[0;34m(self)\u001b[0m\n\u001b[1;32m    495\u001b[0m     sparkConf\u001b[38;5;241m.\u001b[39mset(key, value)\n\u001b[1;32m    496\u001b[0m \u001b[38;5;66;03m# This SparkContext may be an existing one.\u001b[39;00m\n\u001b[0;32m--> 497\u001b[0m sc \u001b[38;5;241m=\u001b[39m \u001b[43mSparkContext\u001b[49m\u001b[38;5;241;43m.\u001b[39;49m\u001b[43mgetOrCreate\u001b[49m\u001b[43m(\u001b[49m\u001b[43msparkConf\u001b[49m\u001b[43m)\u001b[49m\n\u001b[1;32m    498\u001b[0m \u001b[38;5;66;03m# Do not update `SparkConf` for existing `SparkContext`, as it's shared\u001b[39;00m\n\u001b[1;32m    499\u001b[0m \u001b[38;5;66;03m# by all sessions.\u001b[39;00m\n\u001b[1;32m    500\u001b[0m session \u001b[38;5;241m=\u001b[39m SparkSession(sc, options\u001b[38;5;241m=\u001b[39m\u001b[38;5;28mself\u001b[39m\u001b[38;5;241m.\u001b[39m_options)\n",
      "File \u001b[0;32m~/Desktop/Machine Learning and Data Analysis/Data-Engineering-Essentials/045 Data Processing using Spark SQL/015 Data Processing Frameworks/dpf-venv/lib/python3.13/site-packages/pyspark/context.py:515\u001b[0m, in \u001b[0;36mSparkContext.getOrCreate\u001b[0;34m(cls, conf)\u001b[0m\n\u001b[1;32m    513\u001b[0m \u001b[38;5;28;01mwith\u001b[39;00m SparkContext\u001b[38;5;241m.\u001b[39m_lock:\n\u001b[1;32m    514\u001b[0m     \u001b[38;5;28;01mif\u001b[39;00m SparkContext\u001b[38;5;241m.\u001b[39m_active_spark_context \u001b[38;5;129;01mis\u001b[39;00m \u001b[38;5;28;01mNone\u001b[39;00m:\n\u001b[0;32m--> 515\u001b[0m         \u001b[43mSparkContext\u001b[49m\u001b[43m(\u001b[49m\u001b[43mconf\u001b[49m\u001b[38;5;241;43m=\u001b[39;49m\u001b[43mconf\u001b[49m\u001b[43m \u001b[49m\u001b[38;5;129;43;01mor\u001b[39;49;00m\u001b[43m \u001b[49m\u001b[43mSparkConf\u001b[49m\u001b[43m(\u001b[49m\u001b[43m)\u001b[49m\u001b[43m)\u001b[49m\n\u001b[1;32m    516\u001b[0m     \u001b[38;5;28;01massert\u001b[39;00m SparkContext\u001b[38;5;241m.\u001b[39m_active_spark_context \u001b[38;5;129;01mis\u001b[39;00m \u001b[38;5;129;01mnot\u001b[39;00m \u001b[38;5;28;01mNone\u001b[39;00m\n\u001b[1;32m    517\u001b[0m     \u001b[38;5;28;01mreturn\u001b[39;00m SparkContext\u001b[38;5;241m.\u001b[39m_active_spark_context\n",
      "File \u001b[0;32m~/Desktop/Machine Learning and Data Analysis/Data-Engineering-Essentials/045 Data Processing using Spark SQL/015 Data Processing Frameworks/dpf-venv/lib/python3.13/site-packages/pyspark/context.py:201\u001b[0m, in \u001b[0;36mSparkContext.__init__\u001b[0;34m(self, master, appName, sparkHome, pyFiles, environment, batchSize, serializer, conf, gateway, jsc, profiler_cls, udf_profiler_cls, memory_profiler_cls)\u001b[0m\n\u001b[1;32m    195\u001b[0m \u001b[38;5;28;01mif\u001b[39;00m gateway \u001b[38;5;129;01mis\u001b[39;00m \u001b[38;5;129;01mnot\u001b[39;00m \u001b[38;5;28;01mNone\u001b[39;00m \u001b[38;5;129;01mand\u001b[39;00m gateway\u001b[38;5;241m.\u001b[39mgateway_parameters\u001b[38;5;241m.\u001b[39mauth_token \u001b[38;5;129;01mis\u001b[39;00m \u001b[38;5;28;01mNone\u001b[39;00m:\n\u001b[1;32m    196\u001b[0m     \u001b[38;5;28;01mraise\u001b[39;00m \u001b[38;5;167;01mValueError\u001b[39;00m(\n\u001b[1;32m    197\u001b[0m         \u001b[38;5;124m\"\u001b[39m\u001b[38;5;124mYou are trying to pass an insecure Py4j gateway to Spark. This\u001b[39m\u001b[38;5;124m\"\u001b[39m\n\u001b[1;32m    198\u001b[0m         \u001b[38;5;124m\"\u001b[39m\u001b[38;5;124m is not allowed as it is a security risk.\u001b[39m\u001b[38;5;124m\"\u001b[39m\n\u001b[1;32m    199\u001b[0m     )\n\u001b[0;32m--> 201\u001b[0m \u001b[43mSparkContext\u001b[49m\u001b[38;5;241;43m.\u001b[39;49m\u001b[43m_ensure_initialized\u001b[49m\u001b[43m(\u001b[49m\u001b[38;5;28;43mself\u001b[39;49m\u001b[43m,\u001b[49m\u001b[43m \u001b[49m\u001b[43mgateway\u001b[49m\u001b[38;5;241;43m=\u001b[39;49m\u001b[43mgateway\u001b[49m\u001b[43m,\u001b[49m\u001b[43m \u001b[49m\u001b[43mconf\u001b[49m\u001b[38;5;241;43m=\u001b[39;49m\u001b[43mconf\u001b[49m\u001b[43m)\u001b[49m\n\u001b[1;32m    202\u001b[0m \u001b[38;5;28;01mtry\u001b[39;00m:\n\u001b[1;32m    203\u001b[0m     \u001b[38;5;28mself\u001b[39m\u001b[38;5;241m.\u001b[39m_do_init(\n\u001b[1;32m    204\u001b[0m         master,\n\u001b[1;32m    205\u001b[0m         appName,\n\u001b[0;32m   (...)\u001b[0m\n\u001b[1;32m    215\u001b[0m         memory_profiler_cls,\n\u001b[1;32m    216\u001b[0m     )\n",
      "File \u001b[0;32m~/Desktop/Machine Learning and Data Analysis/Data-Engineering-Essentials/045 Data Processing using Spark SQL/015 Data Processing Frameworks/dpf-venv/lib/python3.13/site-packages/pyspark/context.py:436\u001b[0m, in \u001b[0;36mSparkContext._ensure_initialized\u001b[0;34m(cls, instance, gateway, conf)\u001b[0m\n\u001b[1;32m    434\u001b[0m \u001b[38;5;28;01mwith\u001b[39;00m SparkContext\u001b[38;5;241m.\u001b[39m_lock:\n\u001b[1;32m    435\u001b[0m     \u001b[38;5;28;01mif\u001b[39;00m \u001b[38;5;129;01mnot\u001b[39;00m SparkContext\u001b[38;5;241m.\u001b[39m_gateway:\n\u001b[0;32m--> 436\u001b[0m         SparkContext\u001b[38;5;241m.\u001b[39m_gateway \u001b[38;5;241m=\u001b[39m gateway \u001b[38;5;129;01mor\u001b[39;00m \u001b[43mlaunch_gateway\u001b[49m\u001b[43m(\u001b[49m\u001b[43mconf\u001b[49m\u001b[43m)\u001b[49m\n\u001b[1;32m    437\u001b[0m         SparkContext\u001b[38;5;241m.\u001b[39m_jvm \u001b[38;5;241m=\u001b[39m SparkContext\u001b[38;5;241m.\u001b[39m_gateway\u001b[38;5;241m.\u001b[39mjvm\n\u001b[1;32m    439\u001b[0m     \u001b[38;5;28;01mif\u001b[39;00m instance:\n",
      "File \u001b[0;32m~/Desktop/Machine Learning and Data Analysis/Data-Engineering-Essentials/045 Data Processing using Spark SQL/015 Data Processing Frameworks/dpf-venv/lib/python3.13/site-packages/pyspark/java_gateway.py:107\u001b[0m, in \u001b[0;36mlaunch_gateway\u001b[0;34m(conf, popen_kwargs)\u001b[0m\n\u001b[1;32m    104\u001b[0m     time\u001b[38;5;241m.\u001b[39msleep(\u001b[38;5;241m0.1\u001b[39m)\n\u001b[1;32m    106\u001b[0m \u001b[38;5;28;01mif\u001b[39;00m \u001b[38;5;129;01mnot\u001b[39;00m os\u001b[38;5;241m.\u001b[39mpath\u001b[38;5;241m.\u001b[39misfile(conn_info_file):\n\u001b[0;32m--> 107\u001b[0m     \u001b[38;5;28;01mraise\u001b[39;00m PySparkRuntimeError(\n\u001b[1;32m    108\u001b[0m         error_class\u001b[38;5;241m=\u001b[39m\u001b[38;5;124m\"\u001b[39m\u001b[38;5;124mJAVA_GATEWAY_EXITED\u001b[39m\u001b[38;5;124m\"\u001b[39m,\n\u001b[1;32m    109\u001b[0m         message_parameters\u001b[38;5;241m=\u001b[39m{},\n\u001b[1;32m    110\u001b[0m     )\n\u001b[1;32m    112\u001b[0m \u001b[38;5;28;01mwith\u001b[39;00m \u001b[38;5;28mopen\u001b[39m(conn_info_file, \u001b[38;5;124m\"\u001b[39m\u001b[38;5;124mrb\u001b[39m\u001b[38;5;124m\"\u001b[39m) \u001b[38;5;28;01mas\u001b[39;00m info:\n\u001b[1;32m    113\u001b[0m     gateway_port \u001b[38;5;241m=\u001b[39m read_int(info)\n",
      "\u001b[0;31mPySparkRuntimeError\u001b[0m: [JAVA_GATEWAY_EXITED] Java gateway process exited before sending its port number."
     ]
    }
   ],
   "source": [
    "from pyspark.sql import SparkSession\n",
    "\n",
    "spark = SparkSession. \\\n",
    "    builder. \\\n",
    "    appName('NYSE Count'). \\\n",
    "    master('local'). \\\n",
    "    getOrCreate()\n",
    "\n",
    "df = spark.read.csv('data/nyse_all/nyse_data/*', \n",
    "                    schema='''\n",
    "                    stock_id STRING, trans_date STRING, open_price FLOAT, low_price FLOAT, \n",
    "                    high_price FLOAT, close_price FLOAT, volume BIGINT'''\n",
    "                    )\n",
    "\n",
    "df.count()"
   ]
  }
 ],
 "metadata": {
  "kernelspec": {
   "display_name": "dpf-venv",
   "language": "python",
   "name": "python3"
  },
  "language_info": {
   "codemirror_mode": {
    "name": "ipython",
    "version": 3
   },
   "file_extension": ".py",
   "mimetype": "text/x-python",
   "name": "python",
   "nbconvert_exporter": "python",
   "pygments_lexer": "ipython3",
   "version": "3.13.1"
  }
 },
 "nbformat": 4,
 "nbformat_minor": 2
}
