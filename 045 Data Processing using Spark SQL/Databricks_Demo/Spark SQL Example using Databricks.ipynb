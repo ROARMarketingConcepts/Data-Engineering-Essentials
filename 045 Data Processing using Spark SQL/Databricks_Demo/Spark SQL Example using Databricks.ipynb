{
 "cells": [
  {
   "cell_type": "code",
   "execution_count": 0,
   "metadata": {
    "application/vnd.databricks.v1+cell": {
     "cellMetadata": {
      "byteLimit": 2048000,
      "rowLimit": 10000
     },
     "inputWidgets": {},
     "nuid": "d16b029f-c547-46dc-8800-04b787da99fa",
     "showTitle": false,
     "tableResultSettingsMap": {},
     "title": ""
    }
   },
   "outputs": [
    {
     "output_type": "display_data",
     "data": {
      "text/html": [
       "<style scoped>\n",
       "  .table-result-container {\n",
       "    max-height: 300px;\n",
       "    overflow: auto;\n",
       "  }\n",
       "  table, th, td {\n",
       "    border: 1px solid black;\n",
       "    border-collapse: collapse;\n",
       "  }\n",
       "  th, td {\n",
       "    padding: 5px;\n",
       "  }\n",
       "  th {\n",
       "    text-align: left;\n",
       "  }\n",
       "</style><div class='table-result-container'><table class='table-result'><thead style='background-color: white'><tr><th>path</th><th>name</th><th>size</th><th>modificationTime</th></tr></thead><tbody><tr><td>dbfs:/public/retail_db/</td><td>retail_db/</td><td>0</td><td>1736895018908</td></tr></tbody></table></div>"
      ]
     },
     "metadata": {
      "application/vnd.databricks.v1+output": {
       "addedWidgets": {},
       "aggData": [],
       "aggError": "",
       "aggOverflow": false,
       "aggSchema": [],
       "aggSeriesLimitReached": false,
       "aggType": "",
       "arguments": {},
       "columnCustomDisplayInfos": {},
       "data": [
        [
         "dbfs:/public/retail_db/",
         "retail_db/",
         0,
         1736895018908
        ]
       ],
       "datasetInfos": [],
       "dbfsResultPath": null,
       "isJsonSchema": true,
       "metadata": {
        "isDbfsCommandResult": false
       },
       "overflow": false,
       "plotOptions": {
        "customPlotOptions": {},
        "displayType": "table",
        "pivotAggregation": null,
        "pivotColumns": null,
        "xColumns": null,
        "yColumns": null
       },
       "removedWidgets": [],
       "schema": [
        {
         "metadata": "{}",
         "name": "path",
         "type": "\"string\""
        },
        {
         "metadata": "{}",
         "name": "name",
         "type": "\"string\""
        },
        {
         "metadata": "{}",
         "name": "size",
         "type": "\"long\""
        },
        {
         "metadata": "{}",
         "name": "modificationTime",
         "type": "\"long\""
        }
       ],
       "type": "table"
      }
     },
     "output_type": "display_data"
    }
   ],
   "source": [
    "%fs ls dbfs:/public/"
   ]
  },
  {
   "cell_type": "code",
   "execution_count": 0,
   "metadata": {
    "application/vnd.databricks.v1+cell": {
     "cellMetadata": {
      "byteLimit": 2048000,
      "rowLimit": 10000
     },
     "inputWidgets": {},
     "nuid": "5bc3e981-eb80-4f32-bcb4-d4bc57d5641a",
     "showTitle": false,
     "tableResultSettingsMap": {},
     "title": ""
    }
   },
   "outputs": [
    {
     "output_type": "display_data",
     "data": {
      "text/html": [
       "<style scoped>\n",
       "  .table-result-container {\n",
       "    max-height: 300px;\n",
       "    overflow: auto;\n",
       "  }\n",
       "  table, th, td {\n",
       "    border: 1px solid black;\n",
       "    border-collapse: collapse;\n",
       "  }\n",
       "  th, td {\n",
       "    padding: 5px;\n",
       "  }\n",
       "  th {\n",
       "    text-align: left;\n",
       "  }\n",
       "</style><div class='table-result-container'><table class='table-result'><thead style='background-color: white'><tr><th>path</th><th>name</th><th>size</th><th>modificationTime</th></tr></thead><tbody><tr><td>dbfs:/public/retail_db/README.md</td><td>README.md</td><td>806</td><td>1736895021611</td></tr><tr><td>dbfs:/public/retail_db/categories/</td><td>categories/</td><td>0</td><td>1736895024588</td></tr><tr><td>dbfs:/public/retail_db/create_db.sql</td><td>create_db.sql</td><td>10303297</td><td>1736895023301</td></tr><tr><td>dbfs:/public/retail_db/create_db_tables_pg.sql</td><td>create_db_tables_pg.sql</td><td>1748</td><td>1736895020760</td></tr><tr><td>dbfs:/public/retail_db/customers/</td><td>customers/</td><td>0</td><td>1736895019295</td></tr><tr><td>dbfs:/public/retail_db/departments/</td><td>departments/</td><td>0</td><td>1736895021010</td></tr><tr><td>dbfs:/public/retail_db/load_db_tables_pg.sql</td><td>load_db_tables_pg.sql</td><td>10297372</td><td>1736895026022</td></tr><tr><td>dbfs:/public/retail_db/order_items/</td><td>order_items/</td><td>0</td><td>1736895021950</td></tr><tr><td>dbfs:/public/retail_db/orders/</td><td>orders/</td><td>0</td><td>1736895023875</td></tr><tr><td>dbfs:/public/retail_db/products/</td><td>products/</td><td>0</td><td>1736895020073</td></tr><tr><td>dbfs:/public/retail_db/schemas.json</td><td>schemas.json</td><td>4255</td><td>1736895023639</td></tr></tbody></table></div>"
      ]
     },
     "metadata": {
      "application/vnd.databricks.v1+output": {
       "addedWidgets": {},
       "aggData": [],
       "aggError": "",
       "aggOverflow": false,
       "aggSchema": [],
       "aggSeriesLimitReached": false,
       "aggType": "",
       "arguments": {},
       "columnCustomDisplayInfos": {},
       "data": [
        [
         "dbfs:/public/retail_db/README.md",
         "README.md",
         806,
         1736895021611
        ],
        [
         "dbfs:/public/retail_db/categories/",
         "categories/",
         0,
         1736895024588
        ],
        [
         "dbfs:/public/retail_db/create_db.sql",
         "create_db.sql",
         10303297,
         1736895023301
        ],
        [
         "dbfs:/public/retail_db/create_db_tables_pg.sql",
         "create_db_tables_pg.sql",
         1748,
         1736895020760
        ],
        [
         "dbfs:/public/retail_db/customers/",
         "customers/",
         0,
         1736895019295
        ],
        [
         "dbfs:/public/retail_db/departments/",
         "departments/",
         0,
         1736895021010
        ],
        [
         "dbfs:/public/retail_db/load_db_tables_pg.sql",
         "load_db_tables_pg.sql",
         10297372,
         1736895026022
        ],
        [
         "dbfs:/public/retail_db/order_items/",
         "order_items/",
         0,
         1736895021950
        ],
        [
         "dbfs:/public/retail_db/orders/",
         "orders/",
         0,
         1736895023875
        ],
        [
         "dbfs:/public/retail_db/products/",
         "products/",
         0,
         1736895020073
        ],
        [
         "dbfs:/public/retail_db/schemas.json",
         "schemas.json",
         4255,
         1736895023639
        ]
       ],
       "datasetInfos": [],
       "dbfsResultPath": null,
       "isJsonSchema": true,
       "metadata": {
        "isDbfsCommandResult": false
       },
       "overflow": false,
       "plotOptions": {
        "customPlotOptions": {},
        "displayType": "table",
        "pivotAggregation": null,
        "pivotColumns": null,
        "xColumns": null,
        "yColumns": null
       },
       "removedWidgets": [],
       "schema": [
        {
         "metadata": "{}",
         "name": "path",
         "type": "\"string\""
        },
        {
         "metadata": "{}",
         "name": "name",
         "type": "\"string\""
        },
        {
         "metadata": "{}",
         "name": "size",
         "type": "\"long\""
        },
        {
         "metadata": "{}",
         "name": "modificationTime",
         "type": "\"long\""
        }
       ],
       "type": "table"
      }
     },
     "output_type": "display_data"
    }
   ],
   "source": [
    "%fs ls dbfs:/public/retail_db"
   ]
  },
  {
   "cell_type": "code",
   "execution_count": 0,
   "metadata": {
    "application/vnd.databricks.v1+cell": {
     "cellMetadata": {
      "byteLimit": 2048000,
      "implicitDf": true,
      "rowLimit": 10000
     },
     "inputWidgets": {},
     "nuid": "af484c49-37eb-4085-ba70-a62f50a7a12a",
     "showTitle": false,
     "tableResultSettingsMap": {},
     "title": ""
    }
   },
   "outputs": [
    {
     "output_type": "display_data",
     "data": {
      "text/html": [
       "<style scoped>\n",
       "  .table-result-container {\n",
       "    max-height: 300px;\n",
       "    overflow: auto;\n",
       "  }\n",
       "  table, th, td {\n",
       "    border: 1px solid black;\n",
       "    border-collapse: collapse;\n",
       "  }\n",
       "  th, td {\n",
       "    padding: 5px;\n",
       "  }\n",
       "  th {\n",
       "    text-align: left;\n",
       "  }\n",
       "</style><div class='table-result-container'><table class='table-result'><thead style='background-color: white'><tr><th>value</th></tr></thead><tbody><tr><td>1,2013-07-25 00:00:00.0,11599,CLOSED</td></tr><tr><td>2,2013-07-25 00:00:00.0,256,PENDING_PAYMENT</td></tr><tr><td>3,2013-07-25 00:00:00.0,12111,COMPLETE</td></tr><tr><td>4,2013-07-25 00:00:00.0,8827,CLOSED</td></tr><tr><td>5,2013-07-25 00:00:00.0,11318,COMPLETE</td></tr><tr><td>6,2013-07-25 00:00:00.0,7130,COMPLETE</td></tr><tr><td>7,2013-07-25 00:00:00.0,4530,COMPLETE</td></tr><tr><td>8,2013-07-25 00:00:00.0,2911,PROCESSING</td></tr><tr><td>9,2013-07-25 00:00:00.0,5657,PENDING_PAYMENT</td></tr><tr><td>10,2013-07-25 00:00:00.0,5648,PENDING_PAYMENT</td></tr></tbody></table></div>"
      ]
     },
     "metadata": {
      "application/vnd.databricks.v1+output": {
       "addedWidgets": {},
       "aggData": [],
       "aggError": "",
       "aggOverflow": false,
       "aggSchema": [],
       "aggSeriesLimitReached": false,
       "aggType": "",
       "arguments": {},
       "columnCustomDisplayInfos": {},
       "data": [
        [
         "1,2013-07-25 00:00:00.0,11599,CLOSED"
        ],
        [
         "2,2013-07-25 00:00:00.0,256,PENDING_PAYMENT"
        ],
        [
         "3,2013-07-25 00:00:00.0,12111,COMPLETE"
        ],
        [
         "4,2013-07-25 00:00:00.0,8827,CLOSED"
        ],
        [
         "5,2013-07-25 00:00:00.0,11318,COMPLETE"
        ],
        [
         "6,2013-07-25 00:00:00.0,7130,COMPLETE"
        ],
        [
         "7,2013-07-25 00:00:00.0,4530,COMPLETE"
        ],
        [
         "8,2013-07-25 00:00:00.0,2911,PROCESSING"
        ],
        [
         "9,2013-07-25 00:00:00.0,5657,PENDING_PAYMENT"
        ],
        [
         "10,2013-07-25 00:00:00.0,5648,PENDING_PAYMENT"
        ]
       ],
       "datasetInfos": [],
       "dbfsResultPath": null,
       "isJsonSchema": true,
       "metadata": {
        "createTempViewForImplicitDf": true,
        "dataframeName": "_sqldf",
        "executionCount": 1
       },
       "overflow": false,
       "plotOptions": {
        "customPlotOptions": {},
        "displayType": "table",
        "pivotAggregation": null,
        "pivotColumns": null,
        "xColumns": null,
        "yColumns": null
       },
       "removedWidgets": [],
       "schema": [
        {
         "metadata": "{}",
         "name": "value",
         "type": "\"string\""
        }
       ],
       "type": "table"
      }
     },
     "output_type": "display_data"
    }
   ],
   "source": [
    "%sql\n",
    "\n",
    "select *\n",
    "from TEXT.`/public/retail_db/orders/`\n",
    "limit 10"
   ]
  },
  {
   "cell_type": "code",
   "execution_count": 0,
   "metadata": {
    "application/vnd.databricks.v1+cell": {
     "cellMetadata": {
      "byteLimit": 2048000,
      "implicitDf": true,
      "rowLimit": 10000
     },
     "inputWidgets": {},
     "nuid": "cafa639d-df21-41c0-a921-7fbfc0994093",
     "showTitle": false,
     "tableResultSettingsMap": {},
     "title": ""
    }
   },
   "outputs": [
    {
     "output_type": "display_data",
     "data": {
      "text/html": [
       "<style scoped>\n",
       "  .table-result-container {\n",
       "    max-height: 300px;\n",
       "    overflow: auto;\n",
       "  }\n",
       "  table, th, td {\n",
       "    border: 1px solid black;\n",
       "    border-collapse: collapse;\n",
       "  }\n",
       "  th, td {\n",
       "    padding: 5px;\n",
       "  }\n",
       "  th {\n",
       "    text-align: left;\n",
       "  }\n",
       "</style><div class='table-result-container'><table class='table-result'><thead style='background-color: white'><tr></tr></thead><tbody></tbody></table></div>"
      ]
     },
     "metadata": {
      "application/vnd.databricks.v1+output": {
       "addedWidgets": {},
       "aggData": [],
       "aggError": "",
       "aggOverflow": false,
       "aggSchema": [],
       "aggSeriesLimitReached": false,
       "aggType": "",
       "arguments": {},
       "columnCustomDisplayInfos": {},
       "data": [],
       "datasetInfos": [],
       "dbfsResultPath": null,
       "isJsonSchema": true,
       "metadata": {
        "dataframeName": null
       },
       "overflow": false,
       "plotOptions": {
        "customPlotOptions": {},
        "displayType": "table",
        "pivotAggregation": null,
        "pivotColumns": null,
        "xColumns": null,
        "yColumns": null
       },
       "removedWidgets": [],
       "schema": [],
       "type": "table"
      }
     },
     "output_type": "display_data"
    }
   ],
   "source": [
    "%sql\n",
    "CREATE OR REPLACE TEMPORARY VIEW orders (\n",
    "  order_id INT,\n",
    "  order_date DATE,\n",
    "  order_customer_id INT,\n",
    "  order_status STRING\n",
    ")  USING csv \n",
    "OPTIONS (\n",
    "  path='/public/retail_db/orders',\n",
    "  sep=','\n",
    ")\n",
    "   "
   ]
  },
  {
   "cell_type": "code",
   "execution_count": 0,
   "metadata": {
    "application/vnd.databricks.v1+cell": {
     "cellMetadata": {
      "byteLimit": 2048000,
      "implicitDf": true,
      "rowLimit": 10000
     },
     "inputWidgets": {},
     "nuid": "e7cb678b-9f82-40de-a43b-794dd8034895",
     "showTitle": false,
     "tableResultSettingsMap": {},
     "title": ""
    }
   },
   "outputs": [
    {
     "output_type": "display_data",
     "data": {
      "text/html": [
       "<style scoped>\n",
       "  .table-result-container {\n",
       "    max-height: 300px;\n",
       "    overflow: auto;\n",
       "  }\n",
       "  table, th, td {\n",
       "    border: 1px solid black;\n",
       "    border-collapse: collapse;\n",
       "  }\n",
       "  th, td {\n",
       "    padding: 5px;\n",
       "  }\n",
       "  th {\n",
       "    text-align: left;\n",
       "  }\n",
       "</style><div class='table-result-container'><table class='table-result'><thead style='background-color: white'><tr><th>col_name</th><th>data_type</th><th>comment</th></tr></thead><tbody><tr><td>order_id</td><td>int</td><td>null</td></tr><tr><td>order_date</td><td>date</td><td>null</td></tr><tr><td>order_customer_id</td><td>int</td><td>null</td></tr><tr><td>order_status</td><td>string</td><td>null</td></tr></tbody></table></div>"
      ]
     },
     "metadata": {
      "application/vnd.databricks.v1+output": {
       "addedWidgets": {},
       "aggData": [],
       "aggError": "",
       "aggOverflow": false,
       "aggSchema": [],
       "aggSeriesLimitReached": false,
       "aggType": "",
       "arguments": {},
       "columnCustomDisplayInfos": {},
       "data": [
        [
         "order_id",
         "int",
         null
        ],
        [
         "order_date",
         "date",
         null
        ],
        [
         "order_customer_id",
         "int",
         null
        ],
        [
         "order_status",
         "string",
         null
        ]
       ],
       "datasetInfos": [],
       "dbfsResultPath": null,
       "isJsonSchema": true,
       "metadata": {
        "createTempViewForImplicitDf": true,
        "dataframeName": "_sqldf",
        "executionCount": 3
       },
       "overflow": false,
       "plotOptions": {
        "customPlotOptions": {},
        "displayType": "table",
        "pivotAggregation": null,
        "pivotColumns": null,
        "xColumns": null,
        "yColumns": null
       },
       "removedWidgets": [],
       "schema": [
        {
         "metadata": "{\"comment\":\"name of the column\"}",
         "name": "col_name",
         "type": "\"string\""
        },
        {
         "metadata": "{\"comment\":\"data type of the column\"}",
         "name": "data_type",
         "type": "\"string\""
        },
        {
         "metadata": "{\"comment\":\"comment of the column\"}",
         "name": "comment",
         "type": "\"string\""
        }
       ],
       "type": "table"
      }
     },
     "output_type": "display_data"
    }
   ],
   "source": [
    "%sql\n",
    "DESCRIBE orders"
   ]
  },
  {
   "cell_type": "code",
   "execution_count": 0,
   "metadata": {
    "application/vnd.databricks.v1+cell": {
     "cellMetadata": {
      "byteLimit": 2048000,
      "implicitDf": true,
      "rowLimit": 10000
     },
     "inputWidgets": {},
     "nuid": "8b459651-3f67-42d7-830a-8e0c2ed77062",
     "showTitle": false,
     "tableResultSettingsMap": {},
     "title": ""
    }
   },
   "outputs": [
    {
     "output_type": "display_data",
     "data": {
      "text/html": [
       "<style scoped>\n",
       "  .table-result-container {\n",
       "    max-height: 300px;\n",
       "    overflow: auto;\n",
       "  }\n",
       "  table, th, td {\n",
       "    border: 1px solid black;\n",
       "    border-collapse: collapse;\n",
       "  }\n",
       "  th, td {\n",
       "    padding: 5px;\n",
       "  }\n",
       "  th {\n",
       "    text-align: left;\n",
       "  }\n",
       "</style><div class='table-result-container'><table class='table-result'><thead style='background-color: white'><tr><th>value</th></tr></thead><tbody><tr><td>1,1,957,1,299.98,299.98</td></tr><tr><td>2,2,1073,1,199.99,199.99</td></tr><tr><td>3,2,502,5,250.0,50.0</td></tr><tr><td>4,2,403,1,129.99,129.99</td></tr><tr><td>5,4,897,2,49.98,24.99</td></tr><tr><td>6,4,365,5,299.95,59.99</td></tr><tr><td>7,4,502,3,150.0,50.0</td></tr><tr><td>8,4,1014,4,199.92,49.98</td></tr><tr><td>9,5,957,1,299.98,299.98</td></tr><tr><td>10,5,365,5,299.95,59.99</td></tr></tbody></table></div>"
      ]
     },
     "metadata": {
      "application/vnd.databricks.v1+output": {
       "addedWidgets": {},
       "aggData": [],
       "aggError": "",
       "aggOverflow": false,
       "aggSchema": [],
       "aggSeriesLimitReached": false,
       "aggType": "",
       "arguments": {},
       "columnCustomDisplayInfos": {},
       "data": [
        [
         "1,1,957,1,299.98,299.98"
        ],
        [
         "2,2,1073,1,199.99,199.99"
        ],
        [
         "3,2,502,5,250.0,50.0"
        ],
        [
         "4,2,403,1,129.99,129.99"
        ],
        [
         "5,4,897,2,49.98,24.99"
        ],
        [
         "6,4,365,5,299.95,59.99"
        ],
        [
         "7,4,502,3,150.0,50.0"
        ],
        [
         "8,4,1014,4,199.92,49.98"
        ],
        [
         "9,5,957,1,299.98,299.98"
        ],
        [
         "10,5,365,5,299.95,59.99"
        ]
       ],
       "datasetInfos": [],
       "dbfsResultPath": null,
       "isJsonSchema": true,
       "metadata": {
        "createTempViewForImplicitDf": true,
        "dataframeName": "_sqldf",
        "executionCount": 4
       },
       "overflow": false,
       "plotOptions": {
        "customPlotOptions": {},
        "displayType": "table",
        "pivotAggregation": null,
        "pivotColumns": null,
        "xColumns": null,
        "yColumns": null
       },
       "removedWidgets": [],
       "schema": [
        {
         "metadata": "{}",
         "name": "value",
         "type": "\"string\""
        }
       ],
       "type": "table"
      }
     },
     "output_type": "display_data"
    }
   ],
   "source": [
    "%sql\n",
    "select *\n",
    "from TEXT.`/public/retail_db/order_items/`\n",
    "limit 10"
   ]
  },
  {
   "cell_type": "code",
   "execution_count": 0,
   "metadata": {
    "application/vnd.databricks.v1+cell": {
     "cellMetadata": {
      "byteLimit": 2048000,
      "implicitDf": true,
      "rowLimit": 10000
     },
     "inputWidgets": {},
     "nuid": "7581fa83-7212-4305-bf8f-5998843b90bb",
     "showTitle": false,
     "tableResultSettingsMap": {},
     "title": ""
    }
   },
   "outputs": [
    {
     "output_type": "display_data",
     "data": {
      "text/html": [
       "<style scoped>\n",
       "  .table-result-container {\n",
       "    max-height: 300px;\n",
       "    overflow: auto;\n",
       "  }\n",
       "  table, th, td {\n",
       "    border: 1px solid black;\n",
       "    border-collapse: collapse;\n",
       "  }\n",
       "  th, td {\n",
       "    padding: 5px;\n",
       "  }\n",
       "  th {\n",
       "    text-align: left;\n",
       "  }\n",
       "</style><div class='table-result-container'><table class='table-result'><thead style='background-color: white'><tr></tr></thead><tbody></tbody></table></div>"
      ]
     },
     "metadata": {
      "application/vnd.databricks.v1+output": {
       "addedWidgets": {},
       "aggData": [],
       "aggError": "",
       "aggOverflow": false,
       "aggSchema": [],
       "aggSeriesLimitReached": false,
       "aggType": "",
       "arguments": {},
       "columnCustomDisplayInfos": {},
       "data": [],
       "datasetInfos": [],
       "dbfsResultPath": null,
       "isJsonSchema": true,
       "metadata": {
        "dataframeName": null
       },
       "overflow": false,
       "plotOptions": {
        "customPlotOptions": {},
        "displayType": "table",
        "pivotAggregation": null,
        "pivotColumns": null,
        "xColumns": null,
        "yColumns": null
       },
       "removedWidgets": [],
       "schema": [],
       "type": "table"
      }
     },
     "output_type": "display_data"
    }
   ],
   "source": [
    "\n",
    "%sql\n",
    "CREATE OR REPLACE TEMPORARY VIEW order_items (\n",
    "  order_item_id INT,\n",
    "  order_item_order_id INT,\n",
    "  order_item_product_id INT,\n",
    "  order_item_quantity INT,\n",
    "  order_item_subtotal FLOAT,\n",
    "  order_item_product_price FLOAT\n",
    ")  USING csv \n",
    "OPTIONS (\n",
    "  path='/public/retail_db/order_items',\n",
    "  sep=','\n",
    ")\n",
    "    "
   ]
  },
  {
   "cell_type": "code",
   "execution_count": 0,
   "metadata": {
    "application/vnd.databricks.v1+cell": {
     "cellMetadata": {
      "byteLimit": 2048000,
      "implicitDf": true,
      "rowLimit": 10000
     },
     "inputWidgets": {},
     "nuid": "ed1fa579-e840-4258-bcaf-8e98af39963c",
     "showTitle": false,
     "tableResultSettingsMap": {},
     "title": ""
    }
   },
   "outputs": [
    {
     "output_type": "display_data",
     "data": {
      "text/html": [
       "<style scoped>\n",
       "  .table-result-container {\n",
       "    max-height: 300px;\n",
       "    overflow: auto;\n",
       "  }\n",
       "  table, th, td {\n",
       "    border: 1px solid black;\n",
       "    border-collapse: collapse;\n",
       "  }\n",
       "  th, td {\n",
       "    padding: 5px;\n",
       "  }\n",
       "  th {\n",
       "    text-align: left;\n",
       "  }\n",
       "</style><div class='table-result-container'><table class='table-result'><thead style='background-color: white'><tr><th>col_name</th><th>data_type</th><th>comment</th></tr></thead><tbody><tr><td>order_item_id</td><td>int</td><td>null</td></tr><tr><td>order_item_order_id</td><td>int</td><td>null</td></tr><tr><td>order_item_product_id</td><td>int</td><td>null</td></tr><tr><td>order_item_quantity</td><td>int</td><td>null</td></tr><tr><td>order_item_subtotal</td><td>float</td><td>null</td></tr><tr><td>order_item_product_price</td><td>float</td><td>null</td></tr></tbody></table></div>"
      ]
     },
     "metadata": {
      "application/vnd.databricks.v1+output": {
       "addedWidgets": {},
       "aggData": [],
       "aggError": "",
       "aggOverflow": false,
       "aggSchema": [],
       "aggSeriesLimitReached": false,
       "aggType": "",
       "arguments": {},
       "columnCustomDisplayInfos": {},
       "data": [
        [
         "order_item_id",
         "int",
         null
        ],
        [
         "order_item_order_id",
         "int",
         null
        ],
        [
         "order_item_product_id",
         "int",
         null
        ],
        [
         "order_item_quantity",
         "int",
         null
        ],
        [
         "order_item_subtotal",
         "float",
         null
        ],
        [
         "order_item_product_price",
         "float",
         null
        ]
       ],
       "datasetInfos": [],
       "dbfsResultPath": null,
       "isJsonSchema": true,
       "metadata": {
        "createTempViewForImplicitDf": true,
        "dataframeName": "_sqldf",
        "executionCount": 5
       },
       "overflow": false,
       "plotOptions": {
        "customPlotOptions": {},
        "displayType": "table",
        "pivotAggregation": null,
        "pivotColumns": null,
        "xColumns": null,
        "yColumns": null
       },
       "removedWidgets": [],
       "schema": [
        {
         "metadata": "{\"comment\":\"name of the column\"}",
         "name": "col_name",
         "type": "\"string\""
        },
        {
         "metadata": "{\"comment\":\"data type of the column\"}",
         "name": "data_type",
         "type": "\"string\""
        },
        {
         "metadata": "{\"comment\":\"comment of the column\"}",
         "name": "comment",
         "type": "\"string\""
        }
       ],
       "type": "table"
      }
     },
     "output_type": "display_data"
    }
   ],
   "source": [
    "%sql\n",
    "DESCRIBE order_items"
   ]
  },
  {
   "cell_type": "code",
   "execution_count": 0,
   "metadata": {
    "application/vnd.databricks.v1+cell": {
     "cellMetadata": {
      "byteLimit": 2048000,
      "implicitDf": true,
      "rowLimit": 10000
     },
     "inputWidgets": {},
     "nuid": "931d1caf-28dd-41bd-a2d0-2e0df073d2ed",
     "showTitle": false,
     "tableResultSettingsMap": {},
     "title": ""
    }
   },
   "outputs": [
    {
     "output_type": "display_data",
     "data": {
      "text/html": [
       "<style scoped>\n",
       "  .table-result-container {\n",
       "    max-height: 300px;\n",
       "    overflow: auto;\n",
       "  }\n",
       "  table, th, td {\n",
       "    border: 1px solid black;\n",
       "    border-collapse: collapse;\n",
       "  }\n",
       "  th, td {\n",
       "    padding: 5px;\n",
       "  }\n",
       "  th {\n",
       "    text-align: left;\n",
       "  }\n",
       "</style><div class='table-result-container'><table class='table-result'><thead style='background-color: white'><tr><th>order_id</th><th>order_date</th><th>order_customer_id</th><th>order_status</th></tr></thead><tbody><tr><td>1</td><td>2013-07-25</td><td>11599</td><td>CLOSED</td></tr><tr><td>2</td><td>2013-07-25</td><td>256</td><td>PENDING_PAYMENT</td></tr><tr><td>3</td><td>2013-07-25</td><td>12111</td><td>COMPLETE</td></tr><tr><td>4</td><td>2013-07-25</td><td>8827</td><td>CLOSED</td></tr><tr><td>5</td><td>2013-07-25</td><td>11318</td><td>COMPLETE</td></tr><tr><td>6</td><td>2013-07-25</td><td>7130</td><td>COMPLETE</td></tr><tr><td>7</td><td>2013-07-25</td><td>4530</td><td>COMPLETE</td></tr><tr><td>8</td><td>2013-07-25</td><td>2911</td><td>PROCESSING</td></tr><tr><td>9</td><td>2013-07-25</td><td>5657</td><td>PENDING_PAYMENT</td></tr><tr><td>10</td><td>2013-07-25</td><td>5648</td><td>PENDING_PAYMENT</td></tr></tbody></table></div>"
      ]
     },
     "metadata": {
      "application/vnd.databricks.v1+output": {
       "addedWidgets": {},
       "aggData": [],
       "aggError": "",
       "aggOverflow": false,
       "aggSchema": [],
       "aggSeriesLimitReached": false,
       "aggType": "",
       "arguments": {},
       "columnCustomDisplayInfos": {},
       "data": [
        [
         1,
         "2013-07-25",
         11599,
         "CLOSED"
        ],
        [
         2,
         "2013-07-25",
         256,
         "PENDING_PAYMENT"
        ],
        [
         3,
         "2013-07-25",
         12111,
         "COMPLETE"
        ],
        [
         4,
         "2013-07-25",
         8827,
         "CLOSED"
        ],
        [
         5,
         "2013-07-25",
         11318,
         "COMPLETE"
        ],
        [
         6,
         "2013-07-25",
         7130,
         "COMPLETE"
        ],
        [
         7,
         "2013-07-25",
         4530,
         "COMPLETE"
        ],
        [
         8,
         "2013-07-25",
         2911,
         "PROCESSING"
        ],
        [
         9,
         "2013-07-25",
         5657,
         "PENDING_PAYMENT"
        ],
        [
         10,
         "2013-07-25",
         5648,
         "PENDING_PAYMENT"
        ]
       ],
       "datasetInfos": [],
       "dbfsResultPath": null,
       "isJsonSchema": true,
       "metadata": {
        "createTempViewForImplicitDf": true,
        "dataframeName": "_sqldf",
        "executionCount": 6
       },
       "overflow": false,
       "plotOptions": {
        "customPlotOptions": {},
        "displayType": "table",
        "pivotAggregation": null,
        "pivotColumns": null,
        "xColumns": null,
        "yColumns": null
       },
       "removedWidgets": [],
       "schema": [
        {
         "metadata": "{}",
         "name": "order_id",
         "type": "\"integer\""
        },
        {
         "metadata": "{}",
         "name": "order_date",
         "type": "\"date\""
        },
        {
         "metadata": "{}",
         "name": "order_customer_id",
         "type": "\"integer\""
        },
        {
         "metadata": "{}",
         "name": "order_status",
         "type": "\"string\""
        }
       ],
       "type": "table"
      }
     },
     "output_type": "display_data"
    }
   ],
   "source": [
    "%sql\n",
    "select *\n",
    "from orders\n",
    "limit 10"
   ]
  },
  {
   "cell_type": "code",
   "execution_count": 0,
   "metadata": {
    "application/vnd.databricks.v1+cell": {
     "cellMetadata": {
      "byteLimit": 2048000,
      "implicitDf": true,
      "rowLimit": 10000
     },
     "inputWidgets": {},
     "nuid": "a8232911-2088-4292-ae85-d3d2c675ffa1",
     "showTitle": false,
     "tableResultSettingsMap": {},
     "title": ""
    }
   },
   "outputs": [
    {
     "output_type": "display_data",
     "data": {
      "text/html": [
       "<style scoped>\n",
       "  .table-result-container {\n",
       "    max-height: 300px;\n",
       "    overflow: auto;\n",
       "  }\n",
       "  table, th, td {\n",
       "    border: 1px solid black;\n",
       "    border-collapse: collapse;\n",
       "  }\n",
       "  th, td {\n",
       "    padding: 5px;\n",
       "  }\n",
       "  th {\n",
       "    text-align: left;\n",
       "  }\n",
       "</style><div class='table-result-container'><table class='table-result'><thead style='background-color: white'><tr><th>order_item_id</th><th>order_item_order_id</th><th>order_item_product_id</th><th>order_item_quantity</th><th>order_item_subtotal</th><th>order_item_product_price</th></tr></thead><tbody><tr><td>1</td><td>1</td><td>957</td><td>1</td><td>299.98</td><td>299.98</td></tr><tr><td>2</td><td>2</td><td>1073</td><td>1</td><td>199.99</td><td>199.99</td></tr><tr><td>3</td><td>2</td><td>502</td><td>5</td><td>250.0</td><td>50.0</td></tr><tr><td>4</td><td>2</td><td>403</td><td>1</td><td>129.99</td><td>129.99</td></tr><tr><td>5</td><td>4</td><td>897</td><td>2</td><td>49.98</td><td>24.99</td></tr><tr><td>6</td><td>4</td><td>365</td><td>5</td><td>299.95</td><td>59.99</td></tr><tr><td>7</td><td>4</td><td>502</td><td>3</td><td>150.0</td><td>50.0</td></tr><tr><td>8</td><td>4</td><td>1014</td><td>4</td><td>199.92</td><td>49.98</td></tr><tr><td>9</td><td>5</td><td>957</td><td>1</td><td>299.98</td><td>299.98</td></tr><tr><td>10</td><td>5</td><td>365</td><td>5</td><td>299.95</td><td>59.99</td></tr></tbody></table></div>"
      ]
     },
     "metadata": {
      "application/vnd.databricks.v1+output": {
       "addedWidgets": {},
       "aggData": [],
       "aggError": "",
       "aggOverflow": false,
       "aggSchema": [],
       "aggSeriesLimitReached": false,
       "aggType": "",
       "arguments": {},
       "columnCustomDisplayInfos": {},
       "data": [
        [
         1,
         1,
         957,
         1,
         299.98,
         299.98
        ],
        [
         2,
         2,
         1073,
         1,
         199.99,
         199.99
        ],
        [
         3,
         2,
         502,
         5,
         250.0,
         50.0
        ],
        [
         4,
         2,
         403,
         1,
         129.99,
         129.99
        ],
        [
         5,
         4,
         897,
         2,
         49.98,
         24.99
        ],
        [
         6,
         4,
         365,
         5,
         299.95,
         59.99
        ],
        [
         7,
         4,
         502,
         3,
         150.0,
         50.0
        ],
        [
         8,
         4,
         1014,
         4,
         199.92,
         49.98
        ],
        [
         9,
         5,
         957,
         1,
         299.98,
         299.98
        ],
        [
         10,
         5,
         365,
         5,
         299.95,
         59.99
        ]
       ],
       "datasetInfos": [],
       "dbfsResultPath": null,
       "isJsonSchema": true,
       "metadata": {
        "createTempViewForImplicitDf": true,
        "dataframeName": "_sqldf",
        "executionCount": 7
       },
       "overflow": false,
       "plotOptions": {
        "customPlotOptions": {},
        "displayType": "table",
        "pivotAggregation": null,
        "pivotColumns": null,
        "xColumns": null,
        "yColumns": null
       },
       "removedWidgets": [],
       "schema": [
        {
         "metadata": "{}",
         "name": "order_item_id",
         "type": "\"integer\""
        },
        {
         "metadata": "{}",
         "name": "order_item_order_id",
         "type": "\"integer\""
        },
        {
         "metadata": "{}",
         "name": "order_item_product_id",
         "type": "\"integer\""
        },
        {
         "metadata": "{}",
         "name": "order_item_quantity",
         "type": "\"integer\""
        },
        {
         "metadata": "{}",
         "name": "order_item_subtotal",
         "type": "\"float\""
        },
        {
         "metadata": "{}",
         "name": "order_item_product_price",
         "type": "\"float\""
        }
       ],
       "type": "table"
      }
     },
     "output_type": "display_data"
    }
   ],
   "source": [
    "%sql\n",
    "select *\n",
    "from order_items\n",
    "limit 10"
   ]
  },
  {
   "cell_type": "code",
   "execution_count": 0,
   "metadata": {
    "application/vnd.databricks.v1+cell": {
     "cellMetadata": {
      "byteLimit": 2048000,
      "implicitDf": true,
      "rowLimit": 10000
     },
     "inputWidgets": {},
     "nuid": "94724363-e209-4fea-a842-e63054b61071",
     "showTitle": false,
     "tableResultSettingsMap": {},
     "title": ""
    }
   },
   "outputs": [
    {
     "output_type": "display_data",
     "data": {
      "text/html": [
       "<style scoped>\n",
       "  .table-result-container {\n",
       "    max-height: 300px;\n",
       "    overflow: auto;\n",
       "  }\n",
       "  table, th, td {\n",
       "    border: 1px solid black;\n",
       "    border-collapse: collapse;\n",
       "  }\n",
       "  th, td {\n",
       "    padding: 5px;\n",
       "  }\n",
       "  th {\n",
       "    text-align: left;\n",
       "  }\n",
       "</style><div class='table-result-container'><table class='table-result'><thead style='background-color: white'><tr></tr></thead><tbody></tbody></table></div>"
      ]
     },
     "metadata": {
      "application/vnd.databricks.v1+output": {
       "addedWidgets": {},
       "aggData": [],
       "aggError": "",
       "aggOverflow": false,
       "aggSchema": [],
       "aggSeriesLimitReached": false,
       "aggType": "",
       "arguments": {},
       "columnCustomDisplayInfos": {},
       "data": [],
       "datasetInfos": [],
       "dbfsResultPath": null,
       "isJsonSchema": true,
       "metadata": {
        "dataframeName": null
       },
       "overflow": false,
       "plotOptions": {
        "customPlotOptions": {},
        "displayType": "table",
        "pivotAggregation": null,
        "pivotColumns": null,
        "xColumns": null,
        "yColumns": null
       },
       "removedWidgets": [],
       "schema": [],
       "type": "table"
      }
     },
     "output_type": "display_data"
    }
   ],
   "source": [
    "%sql\n",
    "INSERT OVERWRITE DIRECTORY 'dbfs:/public/retail_db/daily_product_revenue' \n",
    "USING PARQUET\n",
    "\n",
    "select \n",
    "  order_date,\n",
    "  round(sum(order_item_quantity * order_item_product_price),2) as total\n",
    "from orders o\n",
    "left join order_items oi \n",
    "on o.order_id = oi.order_item_order_id\n",
    "where order_status in ('COMPLETE',' CLOSED')\n",
    "group by 1\n",
    "HAVING round(sum(order_item_quantity * order_item_product_price),2) IS NOT NULL\n",
    "ORDER BY 1\n",
    "limit 50"
   ]
  },
  {
   "cell_type": "code",
   "execution_count": 0,
   "metadata": {
    "application/vnd.databricks.v1+cell": {
     "cellMetadata": {
      "byteLimit": 2048000,
      "rowLimit": 10000
     },
     "inputWidgets": {},
     "nuid": "927632e0-a6a1-4697-9a43-5220c32c1585",
     "showTitle": false,
     "tableResultSettingsMap": {},
     "title": ""
    }
   },
   "outputs": [
    {
     "output_type": "display_data",
     "data": {
      "text/html": [
       "<style scoped>\n",
       "  .table-result-container {\n",
       "    max-height: 300px;\n",
       "    overflow: auto;\n",
       "  }\n",
       "  table, th, td {\n",
       "    border: 1px solid black;\n",
       "    border-collapse: collapse;\n",
       "  }\n",
       "  th, td {\n",
       "    padding: 5px;\n",
       "  }\n",
       "  th {\n",
       "    text-align: left;\n",
       "  }\n",
       "</style><div class='table-result-container'><table class='table-result'><thead style='background-color: white'><tr><th>path</th><th>name</th><th>size</th><th>modificationTime</th></tr></thead><tbody><tr><td>dbfs:/public/retail_db/daily_product_revenue/_SUCCESS</td><td>_SUCCESS</td><td>0</td><td>1736895224898</td></tr><tr><td>dbfs:/public/retail_db/daily_product_revenue/_committed_426740893539489616</td><td>_committed_426740893539489616</td><td>121</td><td>1736895224508</td></tr><tr><td>dbfs:/public/retail_db/daily_product_revenue/_started_426740893539489616</td><td>_started_426740893539489616</td><td>0</td><td>1736895220566</td></tr><tr><td>dbfs:/public/retail_db/daily_product_revenue/part-00000-tid-426740893539489616-2cdb16c2-5b2e-4004-8001-7ddbd031a3f1-7-1-c000.snappy.parquet</td><td>part-00000-tid-426740893539489616-2cdb16c2-5b2e-4004-8001-7ddbd031a3f1-7-1-c000.snappy.parquet</td><td>1300</td><td>1736895224193</td></tr></tbody></table></div>"
      ]
     },
     "metadata": {
      "application/vnd.databricks.v1+output": {
       "addedWidgets": {},
       "aggData": [],
       "aggError": "",
       "aggOverflow": false,
       "aggSchema": [],
       "aggSeriesLimitReached": false,
       "aggType": "",
       "arguments": {},
       "columnCustomDisplayInfos": {},
       "data": [
        [
         "dbfs:/public/retail_db/daily_product_revenue/_SUCCESS",
         "_SUCCESS",
         0,
         1736895224898
        ],
        [
         "dbfs:/public/retail_db/daily_product_revenue/_committed_426740893539489616",
         "_committed_426740893539489616",
         121,
         1736895224508
        ],
        [
         "dbfs:/public/retail_db/daily_product_revenue/_started_426740893539489616",
         "_started_426740893539489616",
         0,
         1736895220566
        ],
        [
         "dbfs:/public/retail_db/daily_product_revenue/part-00000-tid-426740893539489616-2cdb16c2-5b2e-4004-8001-7ddbd031a3f1-7-1-c000.snappy.parquet",
         "part-00000-tid-426740893539489616-2cdb16c2-5b2e-4004-8001-7ddbd031a3f1-7-1-c000.snappy.parquet",
         1300,
         1736895224193
        ]
       ],
       "datasetInfos": [],
       "dbfsResultPath": null,
       "isJsonSchema": true,
       "metadata": {
        "isDbfsCommandResult": false
       },
       "overflow": false,
       "plotOptions": {
        "customPlotOptions": {},
        "displayType": "table",
        "pivotAggregation": null,
        "pivotColumns": null,
        "xColumns": null,
        "yColumns": null
       },
       "removedWidgets": [],
       "schema": [
        {
         "metadata": "{}",
         "name": "path",
         "type": "\"string\""
        },
        {
         "metadata": "{}",
         "name": "name",
         "type": "\"string\""
        },
        {
         "metadata": "{}",
         "name": "size",
         "type": "\"long\""
        },
        {
         "metadata": "{}",
         "name": "modificationTime",
         "type": "\"long\""
        }
       ],
       "type": "table"
      }
     },
     "output_type": "display_data"
    }
   ],
   "source": [
    "%fs ls dbfs:/public/retail_db/daily_product_revenue"
   ]
  },
  {
   "cell_type": "code",
   "execution_count": 0,
   "metadata": {
    "application/vnd.databricks.v1+cell": {
     "cellMetadata": {
      "byteLimit": 2048000,
      "implicitDf": true,
      "rowLimit": 10000
     },
     "inputWidgets": {},
     "nuid": "7cbfb1f7-d06e-4535-a413-c6151e01de2a",
     "showTitle": false,
     "tableResultSettingsMap": {},
     "title": ""
    }
   },
   "outputs": [
    {
     "output_type": "display_data",
     "data": {
      "text/html": [
       "<style scoped>\n",
       "  .table-result-container {\n",
       "    max-height: 300px;\n",
       "    overflow: auto;\n",
       "  }\n",
       "  table, th, td {\n",
       "    border: 1px solid black;\n",
       "    border-collapse: collapse;\n",
       "  }\n",
       "  th, td {\n",
       "    padding: 5px;\n",
       "  }\n",
       "  th {\n",
       "    text-align: left;\n",
       "  }\n",
       "</style><div class='table-result-container'><table class='table-result'><thead style='background-color: white'><tr><th>order_date</th><th>total</th></tr></thead><tbody><tr><td>2013-07-25</td><td>20030.32</td></tr><tr><td>2013-07-26</td><td>42165.88</td></tr><tr><td>2013-07-27</td><td>33156.21</td></tr><tr><td>2013-07-28</td><td>27012.91</td></tr><tr><td>2013-07-29</td><td>45898.65</td></tr><tr><td>2013-07-30</td><td>40590.21</td></tr><tr><td>2013-07-31</td><td>46503.83</td></tr><tr><td>2013-08-01</td><td>38231.41</td></tr><tr><td>2013-08-02</td><td>36633.44</td></tr><tr><td>2013-08-03</td><td>34828.71</td></tr><tr><td>2013-08-04</td><td>26161.97</td></tr><tr><td>2013-08-05</td><td>25804.33</td></tr><tr><td>2013-08-06</td><td>41413.79</td></tr><tr><td>2013-08-07</td><td>31533.1</td></tr><tr><td>2013-08-08</td><td>27359.07</td></tr><tr><td>2013-08-09</td><td>22091.95</td></tr><tr><td>2013-08-10</td><td>39038.72</td></tr><tr><td>2013-08-11</td><td>21302.69</td></tr><tr><td>2013-08-12</td><td>41139.11</td></tr><tr><td>2013-08-13</td><td>12468.53</td></tr><tr><td>2013-08-14</td><td>29760.88</td></tr><tr><td>2013-08-15</td><td>37473.12</td></tr><tr><td>2013-08-16</td><td>25547.74</td></tr><tr><td>2013-08-17</td><td>52940.94</td></tr><tr><td>2013-08-18</td><td>31304.59</td></tr></tbody></table></div>"
      ]
     },
     "metadata": {
      "application/vnd.databricks.v1+output": {
       "addedWidgets": {},
       "aggData": [],
       "aggError": "",
       "aggOverflow": false,
       "aggSchema": [],
       "aggSeriesLimitReached": false,
       "aggType": "",
       "arguments": {},
       "columnCustomDisplayInfos": {},
       "data": [
        [
         "2013-07-25",
         20030.32
        ],
        [
         "2013-07-26",
         42165.88
        ],
        [
         "2013-07-27",
         33156.21
        ],
        [
         "2013-07-28",
         27012.91
        ],
        [
         "2013-07-29",
         45898.65
        ],
        [
         "2013-07-30",
         40590.21
        ],
        [
         "2013-07-31",
         46503.83
        ],
        [
         "2013-08-01",
         38231.41
        ],
        [
         "2013-08-02",
         36633.44
        ],
        [
         "2013-08-03",
         34828.71
        ],
        [
         "2013-08-04",
         26161.97
        ],
        [
         "2013-08-05",
         25804.33
        ],
        [
         "2013-08-06",
         41413.79
        ],
        [
         "2013-08-07",
         31533.1
        ],
        [
         "2013-08-08",
         27359.07
        ],
        [
         "2013-08-09",
         22091.95
        ],
        [
         "2013-08-10",
         39038.72
        ],
        [
         "2013-08-11",
         21302.69
        ],
        [
         "2013-08-12",
         41139.11
        ],
        [
         "2013-08-13",
         12468.53
        ],
        [
         "2013-08-14",
         29760.88
        ],
        [
         "2013-08-15",
         37473.12
        ],
        [
         "2013-08-16",
         25547.74
        ],
        [
         "2013-08-17",
         52940.94
        ],
        [
         "2013-08-18",
         31304.59
        ]
       ],
       "datasetInfos": [],
       "dbfsResultPath": null,
       "isJsonSchema": true,
       "metadata": {
        "createTempViewForImplicitDf": true,
        "dataframeName": "_sqldf",
        "executionCount": 8
       },
       "overflow": false,
       "plotOptions": {
        "customPlotOptions": {},
        "displayType": "table",
        "pivotAggregation": null,
        "pivotColumns": null,
        "xColumns": null,
        "yColumns": null
       },
       "removedWidgets": [],
       "schema": [
        {
         "metadata": "{}",
         "name": "order_date",
         "type": "\"date\""
        },
        {
         "metadata": "{}",
         "name": "total",
         "type": "\"double\""
        }
       ],
       "type": "table"
      }
     },
     "output_type": "display_data"
    }
   ],
   "source": [
    "%sql\n",
    "\n",
    "select *\n",
    "from parquet.`/public/retail_db/daily_product_revenue/`\n",
    "limit 25"
   ]
  }
 ],
 "metadata": {
  "application/vnd.databricks.v1+notebook": {
   "computePreferences": null,
   "dashboards": [],
   "environmentMetadata": {
    "base_environment": "",
    "client": "1"
   },
   "language": "python",
   "notebookMetadata": {
    "mostRecentlyExecutedCommandWithImplicitDF": {
     "commandId": 7003338651838014,
     "dataframes": [
      "_sqldf"
     ]
    },
    "pythonIndentUnit": 4
   },
   "notebookName": "Spark SQL Example Using Databricks",
   "widgets": {}
  },
  "language_info": {
   "name": "python"
  }
 },
 "nbformat": 4,
 "nbformat_minor": 0
}