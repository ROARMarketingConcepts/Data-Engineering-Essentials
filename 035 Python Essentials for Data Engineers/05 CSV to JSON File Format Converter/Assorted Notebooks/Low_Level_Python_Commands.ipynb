{
 "cells": [
  {
   "cell_type": "code",
   "execution_count": 50,
   "metadata": {},
   "outputs": [],
   "source": [
    "import glob\n",
    "import pandas as pd\n",
    "import numpy as np\n",
    "import json\n",
    "import re\n",
    "import os"
   ]
  },
  {
   "cell_type": "code",
   "execution_count": 26,
   "metadata": {},
   "outputs": [],
   "source": [
    "orders_file = open('/Users/woodzsan/Desktop/Machine Learning and Data Analysis/Data_Engineering_Essentials_using_SQL_Python_and_PySpark/data/retail_db/orders/part-00000',mode='r')"
   ]
  },
  {
   "cell_type": "code",
   "execution_count": 27,
   "metadata": {},
   "outputs": [
    {
     "data": {
      "text/plain": [
       "['1,2013-07-25 00:00:00.0,11599,CLOSED',\n",
       " '2,2013-07-25 00:00:00.0,256,PENDING_PAYMENT',\n",
       " '3,2013-07-25 00:00:00.0,12111,COMPLETE',\n",
       " '4,2013-07-25 00:00:00.0,8827,CLOSED',\n",
       " '5,2013-07-25 00:00:00.0,11318,COMPLETE',\n",
       " '6,2013-07-25 00:00:00.0,7130,COMPLETE',\n",
       " '7,2013-07-25 00:00:00.0,4530,COMPLETE',\n",
       " '8,2013-07-25 00:00:00.0,2911,PROCESSING',\n",
       " '9,2013-07-25 00:00:00.0,5657,PENDING_PAYMENT',\n",
       " '10,2013-07-25 00:00:00.0,5648,PENDING_PAYMENT']"
      ]
     },
     "execution_count": 27,
     "metadata": {},
     "output_type": "execute_result"
    }
   ],
   "source": [
    "orders = orders_file.read().splitlines()  \n",
    "orders[:10] "
   ]
  },
  {
   "cell_type": "code",
   "execution_count": 28,
   "metadata": {},
   "outputs": [
    {
     "data": {
      "text/plain": [
       "'2013-07-25 00:00:00.0'"
      ]
     },
     "execution_count": 28,
     "metadata": {},
     "output_type": "execute_result"
    }
   ],
   "source": [
    "orders[1].split(\",\")[1]"
   ]
  },
  {
   "cell_type": "code",
   "execution_count": 29,
   "metadata": {},
   "outputs": [
    {
     "name": "stdout",
     "output_type": "stream",
     "text": [
      "Help on function glob in module glob:\n",
      "\n",
      "glob(pathname, *, recursive=False)\n",
      "    Return a list of paths matching a pathname pattern.\n",
      "    \n",
      "    The pattern may contain simple shell-style wildcards a la\n",
      "    fnmatch. However, unlike fnmatch, filenames starting with a\n",
      "    dot are special cases that are not matched by '*' and '?'\n",
      "    patterns.\n",
      "    \n",
      "    If recursive is true, the pattern '**' will match any files and\n",
      "    zero or more directories and subdirectories.\n",
      "\n"
     ]
    }
   ],
   "source": [
    "help(glob.glob)"
   ]
  },
  {
   "cell_type": "code",
   "execution_count": 30,
   "metadata": {},
   "outputs": [
    {
     "data": {
      "text/plain": [
       "['/Users/woodzsan/Desktop/Machine Learning and Data Analysis/Data_Engineering_Essentials_using_SQL_Python_and_PySpark/data/retail_db/',\n",
       " '/Users/woodzsan/Desktop/Machine Learning and Data Analysis/Data_Engineering_Essentials_using_SQL_Python_and_PySpark/data/retail_db/customers',\n",
       " '/Users/woodzsan/Desktop/Machine Learning and Data Analysis/Data_Engineering_Essentials_using_SQL_Python_and_PySpark/data/retail_db/customers/part-00000',\n",
       " '/Users/woodzsan/Desktop/Machine Learning and Data Analysis/Data_Engineering_Essentials_using_SQL_Python_and_PySpark/data/retail_db/products',\n",
       " '/Users/woodzsan/Desktop/Machine Learning and Data Analysis/Data_Engineering_Essentials_using_SQL_Python_and_PySpark/data/retail_db/products/part-00000',\n",
       " '/Users/woodzsan/Desktop/Machine Learning and Data Analysis/Data_Engineering_Essentials_using_SQL_Python_and_PySpark/data/retail_db/create_db_tables_pg.sql',\n",
       " '/Users/woodzsan/Desktop/Machine Learning and Data Analysis/Data_Engineering_Essentials_using_SQL_Python_and_PySpark/data/retail_db/departments',\n",
       " '/Users/woodzsan/Desktop/Machine Learning and Data Analysis/Data_Engineering_Essentials_using_SQL_Python_and_PySpark/data/retail_db/departments/part-00000',\n",
       " '/Users/woodzsan/Desktop/Machine Learning and Data Analysis/Data_Engineering_Essentials_using_SQL_Python_and_PySpark/data/retail_db/README.md',\n",
       " '/Users/woodzsan/Desktop/Machine Learning and Data Analysis/Data_Engineering_Essentials_using_SQL_Python_and_PySpark/data/retail_db/order_items',\n",
       " '/Users/woodzsan/Desktop/Machine Learning and Data Analysis/Data_Engineering_Essentials_using_SQL_Python_and_PySpark/data/retail_db/order_items/part-00000',\n",
       " '/Users/woodzsan/Desktop/Machine Learning and Data Analysis/Data_Engineering_Essentials_using_SQL_Python_and_PySpark/data/retail_db/create_db.sql',\n",
       " '/Users/woodzsan/Desktop/Machine Learning and Data Analysis/Data_Engineering_Essentials_using_SQL_Python_and_PySpark/data/retail_db/schemas.json',\n",
       " '/Users/woodzsan/Desktop/Machine Learning and Data Analysis/Data_Engineering_Essentials_using_SQL_Python_and_PySpark/data/retail_db/orders',\n",
       " '/Users/woodzsan/Desktop/Machine Learning and Data Analysis/Data_Engineering_Essentials_using_SQL_Python_and_PySpark/data/retail_db/orders/part-00000',\n",
       " '/Users/woodzsan/Desktop/Machine Learning and Data Analysis/Data_Engineering_Essentials_using_SQL_Python_and_PySpark/data/retail_db/categories',\n",
       " '/Users/woodzsan/Desktop/Machine Learning and Data Analysis/Data_Engineering_Essentials_using_SQL_Python_and_PySpark/data/retail_db/categories/part-00000',\n",
       " '/Users/woodzsan/Desktop/Machine Learning and Data Analysis/Data_Engineering_Essentials_using_SQL_Python_and_PySpark/data/retail_db/load_db_tables_pg.sql']"
      ]
     },
     "execution_count": 30,
     "metadata": {},
     "output_type": "execute_result"
    }
   ],
   "source": [
    "glob.glob('/Users/woodzsan/Desktop/Machine Learning and Data Analysis/Data_Engineering_Essentials_using_SQL_Python_and_PySpark/data/retail_db/**', recursive=True)"
   ]
  },
  {
   "cell_type": "code",
   "execution_count": 31,
   "metadata": {},
   "outputs": [
    {
     "data": {
      "text/plain": [
       "['/Users/woodzsan/Desktop/Machine Learning and Data Analysis/Data_Engineering_Essentials_using_SQL_Python_and_PySpark/data/retail_db/customers/part-00000',\n",
       " '/Users/woodzsan/Desktop/Machine Learning and Data Analysis/Data_Engineering_Essentials_using_SQL_Python_and_PySpark/data/retail_db/products/part-00000',\n",
       " '/Users/woodzsan/Desktop/Machine Learning and Data Analysis/Data_Engineering_Essentials_using_SQL_Python_and_PySpark/data/retail_db/departments/part-00000',\n",
       " '/Users/woodzsan/Desktop/Machine Learning and Data Analysis/Data_Engineering_Essentials_using_SQL_Python_and_PySpark/data/retail_db/order_items/part-00000',\n",
       " '/Users/woodzsan/Desktop/Machine Learning and Data Analysis/Data_Engineering_Essentials_using_SQL_Python_and_PySpark/data/retail_db/orders/part-00000',\n",
       " '/Users/woodzsan/Desktop/Machine Learning and Data Analysis/Data_Engineering_Essentials_using_SQL_Python_and_PySpark/data/retail_db/categories/part-00000']"
      ]
     },
     "execution_count": 31,
     "metadata": {},
     "output_type": "execute_result"
    }
   ],
   "source": [
    "src_files = glob.glob('/Users/woodzsan/Desktop/Machine Learning and Data Analysis/Data_Engineering_Essentials_using_SQL_Python_and_PySpark/data/retail_db/*/*') \n",
    "src_files"
   ]
  },
  {
   "cell_type": "code",
   "execution_count": 32,
   "metadata": {},
   "outputs": [
    {
     "name": "stdout",
     "output_type": "stream",
     "text": [
      "Shape of /Users/woodzsan/Desktop/Machine Learning and Data Analysis/Data_Engineering_Essentials_using_SQL_Python_and_PySpark/data/retail_db/customers/part-00000 is (12435, 9)\n",
      "Shape of /Users/woodzsan/Desktop/Machine Learning and Data Analysis/Data_Engineering_Essentials_using_SQL_Python_and_PySpark/data/retail_db/products/part-00000 is (1345, 6)\n",
      "Shape of /Users/woodzsan/Desktop/Machine Learning and Data Analysis/Data_Engineering_Essentials_using_SQL_Python_and_PySpark/data/retail_db/departments/part-00000 is (6, 2)\n",
      "Shape of /Users/woodzsan/Desktop/Machine Learning and Data Analysis/Data_Engineering_Essentials_using_SQL_Python_and_PySpark/data/retail_db/order_items/part-00000 is (172198, 6)\n",
      "Shape of /Users/woodzsan/Desktop/Machine Learning and Data Analysis/Data_Engineering_Essentials_using_SQL_Python_and_PySpark/data/retail_db/orders/part-00000 is (68883, 4)\n",
      "Shape of /Users/woodzsan/Desktop/Machine Learning and Data Analysis/Data_Engineering_Essentials_using_SQL_Python_and_PySpark/data/retail_db/categories/part-00000 is (58, 3)\n"
     ]
    }
   ],
   "source": [
    "\n",
    "for file in src_files:\n",
    "    df = pd.read_csv(file, header=None)\n",
    "    print(f'Shape of {file} is {df.shape}')\n"
   ]
  },
  {
   "cell_type": "code",
   "execution_count": 33,
   "metadata": {},
   "outputs": [],
   "source": [
    "\n",
    "def get_column_names(schemas,ds_name,sorting_key='column_position'):\n",
    "    column_details = schemas[ds_name]\n",
    "    columns = sorted(column_details,key=lambda col:col[sorting_key])   \n",
    "    return [col['column_name'] for col in columns]       "
   ]
  },
  {
   "cell_type": "code",
   "execution_count": 34,
   "metadata": {},
   "outputs": [
    {
     "data": {
      "text/plain": [
       "dict_items([('departments', [{'column_name': 'department_id', 'data_type': 'integer', 'column_position': 1}, {'column_name': 'department_name', 'data_type': 'string', 'column_position': 2}]), ('categories', [{'column_name': 'category_id', 'data_type': 'integer', 'column_position': 1}, {'column_name': 'category_department_id', 'data_type': 'integer', 'column_position': 2}, {'column_name': 'category_name', 'data_type': 'string', 'column_position': 3}]), ('orders', [{'column_name': 'order_id', 'data_type': 'integer', 'column_position': 1}, {'column_name': 'order_date', 'data_type': 'string', 'column_position': 2}, {'column_name': 'order_customer_id', 'data_type': 'timestamp', 'column_position': 3}, {'column_name': 'order_status', 'data_type': 'string', 'column_position': 4}]), ('products', [{'column_name': 'product_id', 'data_type': 'integer', 'column_position': 1}, {'column_name': 'product_cateogry_id', 'data_type': 'integer', 'column_position': 2}, {'column_name': 'product_name', 'data_type': '', 'column_position': 3}, {'column_name': 'product_description', 'data_type': 'string', 'column_position': 4}, {'column_name': 'product_price', 'data_type': 'float', 'column_position': 5}, {'column_name': 'product_image', 'data_type': 'string', 'column_position': 6}]), ('customers', [{'column_name': 'customer_id', 'data_type': 'integer', 'column_position': 1}, {'column_name': 'customer_fname', 'data_type': 'string', 'column_position': 2}, {'column_name': 'customer_lname', 'data_type': 'string', 'column_position': 3}, {'column_name': 'customer_email', 'data_type': 'string', 'column_position': 4}, {'column_name': 'customer_password', 'data_type': 'string', 'column_position': 5}, {'column_name': 'customer_street', 'data_type': 'string', 'column_position': 6}, {'column_name': 'customer_city', 'data_type': 'string', 'column_position': 7}, {'column_name': 'customer_state', 'data_type': 'string', 'column_position': 8}, {'column_name': 'customer_zipcode', 'data_type': 'integer', 'column_position': 9}]), ('order_items', [{'column_name': 'order_item_id', 'data_type': 'integer', 'column_position': 1}, {'column_name': 'order_item_order_id', 'data_type': 'integer', 'column_position': 2}, {'column_name': 'order_item_product_id', 'data_type': 'integer', 'column_position': 3}, {'column_name': 'order_item_quantity', 'data_type': 'integer', 'column_position': 4}, {'column_name': 'order_item_subtotal', 'data_type': 'float', 'column_position': 5}, {'column_name': 'order_item_product_price', 'data_type': 'float', 'column_position': 6}])])"
      ]
     },
     "execution_count": 34,
     "metadata": {},
     "output_type": "execute_result"
    }
   ],
   "source": [
    "schemas = json.load(open('/Users/woodzsan/Desktop/Machine Learning and Data Analysis/Data_Engineering_Essentials_using_SQL_Python_and_PySpark/data/retail_db/schemas.json')) \n",
    "schemas.items()   "
   ]
  },
  {
   "cell_type": "code",
   "execution_count": 35,
   "metadata": {},
   "outputs": [
    {
     "data": {
      "text/plain": [
       "['order_id', 'order_date', 'order_customer_id', 'order_status']"
      ]
     },
     "execution_count": 35,
     "metadata": {},
     "output_type": "execute_result"
    }
   ],
   "source": [
    "orders_columns = get_column_names(schemas,'orders')\n",
    "orders_columns"
   ]
  },
  {
   "cell_type": "code",
   "execution_count": 36,
   "metadata": {},
   "outputs": [
    {
     "data": {
      "text/html": [
       "<div>\n",
       "<style scoped>\n",
       "    .dataframe tbody tr th:only-of-type {\n",
       "        vertical-align: middle;\n",
       "    }\n",
       "\n",
       "    .dataframe tbody tr th {\n",
       "        vertical-align: top;\n",
       "    }\n",
       "\n",
       "    .dataframe thead th {\n",
       "        text-align: right;\n",
       "    }\n",
       "</style>\n",
       "<table border=\"1\" class=\"dataframe\">\n",
       "  <thead>\n",
       "    <tr style=\"text-align: right;\">\n",
       "      <th></th>\n",
       "      <th>order_id</th>\n",
       "      <th>order_date</th>\n",
       "      <th>order_customer_id</th>\n",
       "      <th>order_status</th>\n",
       "    </tr>\n",
       "  </thead>\n",
       "  <tbody>\n",
       "    <tr>\n",
       "      <th>0</th>\n",
       "      <td>1</td>\n",
       "      <td>2013-07-25 00:00:00.0</td>\n",
       "      <td>11599</td>\n",
       "      <td>CLOSED</td>\n",
       "    </tr>\n",
       "    <tr>\n",
       "      <th>1</th>\n",
       "      <td>2</td>\n",
       "      <td>2013-07-25 00:00:00.0</td>\n",
       "      <td>256</td>\n",
       "      <td>PENDING_PAYMENT</td>\n",
       "    </tr>\n",
       "    <tr>\n",
       "      <th>2</th>\n",
       "      <td>3</td>\n",
       "      <td>2013-07-25 00:00:00.0</td>\n",
       "      <td>12111</td>\n",
       "      <td>COMPLETE</td>\n",
       "    </tr>\n",
       "    <tr>\n",
       "      <th>3</th>\n",
       "      <td>4</td>\n",
       "      <td>2013-07-25 00:00:00.0</td>\n",
       "      <td>8827</td>\n",
       "      <td>CLOSED</td>\n",
       "    </tr>\n",
       "    <tr>\n",
       "      <th>4</th>\n",
       "      <td>5</td>\n",
       "      <td>2013-07-25 00:00:00.0</td>\n",
       "      <td>11318</td>\n",
       "      <td>COMPLETE</td>\n",
       "    </tr>\n",
       "  </tbody>\n",
       "</table>\n",
       "</div>"
      ],
      "text/plain": [
       "   order_id             order_date  order_customer_id     order_status\n",
       "0         1  2013-07-25 00:00:00.0              11599           CLOSED\n",
       "1         2  2013-07-25 00:00:00.0                256  PENDING_PAYMENT\n",
       "2         3  2013-07-25 00:00:00.0              12111         COMPLETE\n",
       "3         4  2013-07-25 00:00:00.0               8827           CLOSED\n",
       "4         5  2013-07-25 00:00:00.0              11318         COMPLETE"
      ]
     },
     "execution_count": 36,
     "metadata": {},
     "output_type": "execute_result"
    }
   ],
   "source": [
    "orders = pd.read_csv('/Users/woodzsan/Desktop/Machine Learning and Data Analysis/Data_Engineering_Essentials_using_SQL_Python_and_PySpark/data/retail_db/orders/part-00000',header=None,names=orders_columns)   \n",
    "orders.head()"
   ]
  },
  {
   "cell_type": "code",
   "execution_count": 37,
   "metadata": {},
   "outputs": [
    {
     "data": {
      "text/plain": [
       "[{'column_name': 'order_id', 'data_type': 'integer', 'column_position': 1},\n",
       " {'column_name': 'order_date', 'data_type': 'string', 'column_position': 2},\n",
       " {'column_name': 'order_customer_id',\n",
       "  'data_type': 'timestamp',\n",
       "  'column_position': 3},\n",
       " {'column_name': 'order_status', 'data_type': 'string', 'column_position': 4}]"
      ]
     },
     "execution_count": 37,
     "metadata": {},
     "output_type": "execute_result"
    }
   ],
   "source": [
    "column_details = schemas['orders']\n",
    "column_details"
   ]
  },
  {
   "cell_type": "code",
   "execution_count": 38,
   "metadata": {},
   "outputs": [
    {
     "data": {
      "text/plain": [
       "[{'column_name': 'order_id', 'data_type': 'integer', 'column_position': 1},\n",
       " {'column_name': 'order_date', 'data_type': 'string', 'column_position': 2},\n",
       " {'column_name': 'order_customer_id',\n",
       "  'data_type': 'timestamp',\n",
       "  'column_position': 3},\n",
       " {'column_name': 'order_status', 'data_type': 'string', 'column_position': 4}]"
      ]
     },
     "execution_count": 38,
     "metadata": {},
     "output_type": "execute_result"
    }
   ],
   "source": [
    "columns = sorted(column_details,key=lambda col:col['column_position'])  \n",
    "columns"
   ]
  },
  {
   "cell_type": "code",
   "execution_count": 39,
   "metadata": {},
   "outputs": [
    {
     "data": {
      "text/plain": [
       "['/Users/woodzsan/Desktop/Machine Learning and Data Analysis/Data_Engineering_Essentials_using_SQL_Python_and_PySpark/data/retail_db/customers/part-00000',\n",
       " '/Users/woodzsan/Desktop/Machine Learning and Data Analysis/Data_Engineering_Essentials_using_SQL_Python_and_PySpark/data/retail_db/products/part-00000',\n",
       " '/Users/woodzsan/Desktop/Machine Learning and Data Analysis/Data_Engineering_Essentials_using_SQL_Python_and_PySpark/data/retail_db/departments/part-00000',\n",
       " '/Users/woodzsan/Desktop/Machine Learning and Data Analysis/Data_Engineering_Essentials_using_SQL_Python_and_PySpark/data/retail_db/order_items/part-00000',\n",
       " '/Users/woodzsan/Desktop/Machine Learning and Data Analysis/Data_Engineering_Essentials_using_SQL_Python_and_PySpark/data/retail_db/orders/part-00000',\n",
       " '/Users/woodzsan/Desktop/Machine Learning and Data Analysis/Data_Engineering_Essentials_using_SQL_Python_and_PySpark/data/retail_db/categories/part-00000']"
      ]
     },
     "execution_count": 39,
     "metadata": {},
     "output_type": "execute_result"
    }
   ],
   "source": [
    "src_files"
   ]
  },
  {
   "cell_type": "code",
   "execution_count": 40,
   "metadata": {},
   "outputs": [
    {
     "data": {
      "text/plain": [
       "['s', 'a', 'b', 'c']"
      ]
     },
     "execution_count": 40,
     "metadata": {},
     "output_type": "execute_result"
    }
   ],
   "source": [
    "s= 's/a/b/c'\n",
    "s = s.split('/')  # creates a list of strings\n",
    "s"
   ]
  },
  {
   "cell_type": "code",
   "execution_count": 41,
   "metadata": {},
   "outputs": [
    {
     "name": "stdout",
     "output_type": "stream",
     "text": [
      "Columns in /Users/woodzsan/Desktop/Machine Learning and Data Analysis/Data_Engineering_Essentials_using_SQL_Python_and_PySpark/data/retail_db/customers/part-00000 are ['customer_id', 'customer_fname', 'customer_lname', 'customer_email', 'customer_password', 'customer_street', 'customer_city', 'customer_state', 'customer_zipcode']\n",
      "Columns in /Users/woodzsan/Desktop/Machine Learning and Data Analysis/Data_Engineering_Essentials_using_SQL_Python_and_PySpark/data/retail_db/products/part-00000 are ['product_id', 'product_cateogry_id', 'product_name', 'product_description', 'product_price', 'product_image']\n",
      "Columns in /Users/woodzsan/Desktop/Machine Learning and Data Analysis/Data_Engineering_Essentials_using_SQL_Python_and_PySpark/data/retail_db/departments/part-00000 are ['department_id', 'department_name']\n",
      "Columns in /Users/woodzsan/Desktop/Machine Learning and Data Analysis/Data_Engineering_Essentials_using_SQL_Python_and_PySpark/data/retail_db/order_items/part-00000 are ['order_item_id', 'order_item_order_id', 'order_item_product_id', 'order_item_quantity', 'order_item_subtotal', 'order_item_product_price']\n",
      "Columns in /Users/woodzsan/Desktop/Machine Learning and Data Analysis/Data_Engineering_Essentials_using_SQL_Python_and_PySpark/data/retail_db/orders/part-00000 are ['order_id', 'order_date', 'order_customer_id', 'order_status']\n",
      "Columns in /Users/woodzsan/Desktop/Machine Learning and Data Analysis/Data_Engineering_Essentials_using_SQL_Python_and_PySpark/data/retail_db/categories/part-00000 are ['category_id', 'category_department_id', 'category_name']\n"
     ]
    }
   ],
   "source": [
    "for file in src_files:\n",
    "    ds_name = file.split('/')[-2]\n",
    "    columns = get_column_names(schemas,ds_name)\n",
    "    print(f'Columns in {file} are {columns}')  "
   ]
  },
  {
   "cell_type": "code",
   "execution_count": 42,
   "metadata": {},
   "outputs": [
    {
     "name": "stdout",
     "output_type": "stream",
     "text": [
      "['', 'Users', 'woodzsan', 'Desktop', 'Machine Learning and Data Analysis', 'Data_Engineering_Essentials_using_SQL_Python_and_PySpark', 'data', 'retail_db', 'customers', 'part-00000']\n",
      "['', 'Users', 'woodzsan', 'Desktop', 'Machine Learning and Data Analysis', 'Data_Engineering_Essentials_using_SQL_Python_and_PySpark', 'data', 'retail_db', 'products', 'part-00000']\n",
      "['', 'Users', 'woodzsan', 'Desktop', 'Machine Learning and Data Analysis', 'Data_Engineering_Essentials_using_SQL_Python_and_PySpark', 'data', 'retail_db', 'departments', 'part-00000']\n",
      "['', 'Users', 'woodzsan', 'Desktop', 'Machine Learning and Data Analysis', 'Data_Engineering_Essentials_using_SQL_Python_and_PySpark', 'data', 'retail_db', 'order_items', 'part-00000']\n",
      "['', 'Users', 'woodzsan', 'Desktop', 'Machine Learning and Data Analysis', 'Data_Engineering_Essentials_using_SQL_Python_and_PySpark', 'data', 'retail_db', 'orders', 'part-00000']\n",
      "['', 'Users', 'woodzsan', 'Desktop', 'Machine Learning and Data Analysis', 'Data_Engineering_Essentials_using_SQL_Python_and_PySpark', 'data', 'retail_db', 'categories', 'part-00000']\n"
     ]
    }
   ],
   "source": [
    "for file in src_files:\n",
    "    print(re.split('[/]',file))"
   ]
  },
  {
   "cell_type": "code",
   "execution_count": 43,
   "metadata": {},
   "outputs": [
    {
     "data": {
      "text/plain": [
       "'/Users/woodzsan/Desktop/Machine Learning and Data Analysis/Data_Engineering_Essentials_using_SQL_Python_and_PySpark/data/retail_db/customers/part-00000'"
      ]
     },
     "execution_count": 43,
     "metadata": {},
     "output_type": "execute_result"
    }
   ],
   "source": [
    "file = src_files[0]\n",
    "file"
   ]
  },
  {
   "cell_type": "code",
   "execution_count": 44,
   "metadata": {},
   "outputs": [
    {
     "data": {
      "text/plain": [
       "['',\n",
       " 'Users',\n",
       " 'woodzsan',\n",
       " 'Desktop',\n",
       " 'Machine Learning and Data Analysis',\n",
       " 'Data_Engineering_Essentials_using_SQL_Python_and_PySpark',\n",
       " 'data',\n",
       " 'retail_db',\n",
       " 'customers',\n",
       " 'part-00000']"
      ]
     },
     "execution_count": 44,
     "metadata": {},
     "output_type": "execute_result"
    }
   ],
   "source": [
    "file_path_list = re.split('[/]',file)\n",
    "file_path_list"
   ]
  },
  {
   "cell_type": "code",
   "execution_count": 45,
   "metadata": {},
   "outputs": [],
   "source": [
    "base_dir = '/Users/woodzsan/Desktop/Machine Learning and Data Analysis/Data_Engineering_Essentials_using_SQL_Python_and_PySpark/data/retail_db_json'"
   ]
  },
  {
   "cell_type": "code",
   "execution_count": 46,
   "metadata": {},
   "outputs": [
    {
     "name": "stdout",
     "output_type": "stream",
     "text": [
      "Processing {'/Users/woodzsan/Desktop/Machine Learning and Data Analysis/Data_Engineering_Essentials_using_SQL_Python_and_PySpark/data/retail_db/customers/part-00000'}\n",
      "Shape of /Users/woodzsan/Desktop/Machine Learning and Data Analysis/Data_Engineering_Essentials_using_SQL_Python_and_PySpark/data/retail_db/customers/part-00000 is (12435, 9)\n",
      "Processing {'/Users/woodzsan/Desktop/Machine Learning and Data Analysis/Data_Engineering_Essentials_using_SQL_Python_and_PySpark/data/retail_db/products/part-00000'}\n",
      "Shape of /Users/woodzsan/Desktop/Machine Learning and Data Analysis/Data_Engineering_Essentials_using_SQL_Python_and_PySpark/data/retail_db/products/part-00000 is (1345, 6)\n",
      "Processing {'/Users/woodzsan/Desktop/Machine Learning and Data Analysis/Data_Engineering_Essentials_using_SQL_Python_and_PySpark/data/retail_db/departments/part-00000'}\n",
      "Shape of /Users/woodzsan/Desktop/Machine Learning and Data Analysis/Data_Engineering_Essentials_using_SQL_Python_and_PySpark/data/retail_db/departments/part-00000 is (6, 2)\n",
      "Processing {'/Users/woodzsan/Desktop/Machine Learning and Data Analysis/Data_Engineering_Essentials_using_SQL_Python_and_PySpark/data/retail_db/order_items/part-00000'}\n",
      "Shape of /Users/woodzsan/Desktop/Machine Learning and Data Analysis/Data_Engineering_Essentials_using_SQL_Python_and_PySpark/data/retail_db/order_items/part-00000 is (172198, 6)\n",
      "Processing {'/Users/woodzsan/Desktop/Machine Learning and Data Analysis/Data_Engineering_Essentials_using_SQL_Python_and_PySpark/data/retail_db/orders/part-00000'}\n",
      "Shape of /Users/woodzsan/Desktop/Machine Learning and Data Analysis/Data_Engineering_Essentials_using_SQL_Python_and_PySpark/data/retail_db/orders/part-00000 is (68883, 4)\n",
      "Processing {'/Users/woodzsan/Desktop/Machine Learning and Data Analysis/Data_Engineering_Essentials_using_SQL_Python_and_PySpark/data/retail_db/categories/part-00000'}\n",
      "Shape of /Users/woodzsan/Desktop/Machine Learning and Data Analysis/Data_Engineering_Essentials_using_SQL_Python_and_PySpark/data/retail_db/categories/part-00000 is (58, 3)\n"
     ]
    }
   ],
   "source": [
    "for file in src_files:\n",
    "    print(f'Processing',{file})\n",
    "    ds_name = re.split('[/]',file)[-2]\n",
    "    columns = get_column_names(schemas,ds_name)\n",
    "    df = pd.read_csv(file,header=None,names=columns) \n",
    "    print(f'Shape of {file} is {df.shape}')  "
   ]
  },
  {
   "cell_type": "code",
   "execution_count": 47,
   "metadata": {},
   "outputs": [
    {
     "name": "stdout",
     "output_type": "stream",
     "text": [
      "Processing {'/Users/woodzsan/Desktop/Machine Learning and Data Analysis/Data_Engineering_Essentials_using_SQL_Python_and_PySpark/data/retail_db/customers/part-00000'}\n",
      "/Users/woodzsan/Desktop/Machine Learning and Data Analysis/Data_Engineering_Essentials_using_SQL_Python_and_PySpark/data/retail_db_json/customers/part-00000\n",
      "Processing {'/Users/woodzsan/Desktop/Machine Learning and Data Analysis/Data_Engineering_Essentials_using_SQL_Python_and_PySpark/data/retail_db/products/part-00000'}\n",
      "/Users/woodzsan/Desktop/Machine Learning and Data Analysis/Data_Engineering_Essentials_using_SQL_Python_and_PySpark/data/retail_db_json/products/part-00000\n",
      "Processing {'/Users/woodzsan/Desktop/Machine Learning and Data Analysis/Data_Engineering_Essentials_using_SQL_Python_and_PySpark/data/retail_db/departments/part-00000'}\n",
      "/Users/woodzsan/Desktop/Machine Learning and Data Analysis/Data_Engineering_Essentials_using_SQL_Python_and_PySpark/data/retail_db_json/departments/part-00000\n",
      "Processing {'/Users/woodzsan/Desktop/Machine Learning and Data Analysis/Data_Engineering_Essentials_using_SQL_Python_and_PySpark/data/retail_db/order_items/part-00000'}\n",
      "/Users/woodzsan/Desktop/Machine Learning and Data Analysis/Data_Engineering_Essentials_using_SQL_Python_and_PySpark/data/retail_db_json/order_items/part-00000\n",
      "Processing {'/Users/woodzsan/Desktop/Machine Learning and Data Analysis/Data_Engineering_Essentials_using_SQL_Python_and_PySpark/data/retail_db/orders/part-00000'}\n",
      "/Users/woodzsan/Desktop/Machine Learning and Data Analysis/Data_Engineering_Essentials_using_SQL_Python_and_PySpark/data/retail_db_json/orders/part-00000\n",
      "Processing {'/Users/woodzsan/Desktop/Machine Learning and Data Analysis/Data_Engineering_Essentials_using_SQL_Python_and_PySpark/data/retail_db/categories/part-00000'}\n",
      "/Users/woodzsan/Desktop/Machine Learning and Data Analysis/Data_Engineering_Essentials_using_SQL_Python_and_PySpark/data/retail_db_json/categories/part-00000\n"
     ]
    }
   ],
   "source": [
    "for file in src_files:\n",
    "    print(f'Processing',{file})\n",
    "    file_path_list = re.split('[/]',file)\n",
    "    ds_name = file_path_list[-2]\n",
    "    file_name = file_path_list[-1]\n",
    "    json_file_path = f'{base_dir}/{ds_name}/{file_name}'\n",
    "    print(json_file_path)  "
   ]
  },
  {
   "cell_type": "markdown",
   "metadata": {},
   "source": [
    "Take a look at the orders table..."
   ]
  },
  {
   "cell_type": "code",
   "execution_count": 52,
   "metadata": {},
   "outputs": [],
   "source": [
    "columns = ['order_id','order_date','order_customer_id','order_status']\n",
    "df = pd.read_csv('/Users/woodzsan/Desktop/Machine Learning and Data Analysis/Data_Engineering_Essentials_using_SQL_Python_and_PySpark/data/retail_db/orders/part-00000',header=None,names=columns)\n",
    "os.makedirs('/Users/woodzsan/Desktop/Machine Learning and Data Analysis/Data_Engineering_Essentials_using_SQL_Python_and_PySpark/data/retail_db_json/orders',exist_ok=True)"
   ]
  },
  {
   "cell_type": "code",
   "execution_count": 53,
   "metadata": {},
   "outputs": [],
   "source": [
    "df.to_json('/Users/woodzsan/Desktop/Machine Learning and Data Analysis/Data_Engineering_Essentials_using_SQL_Python_and_PySpark/data/retail_db_json/orders/part-00000.json',orient='records',lines=True)    "
   ]
  },
  {
   "cell_type": "code",
   "execution_count": 54,
   "metadata": {},
   "outputs": [
    {
     "data": {
      "text/plain": [
       "'/Users/woodzsan/Desktop/Machine Learning and Data Analysis/Data_Engineering_Essentials_using_SQL_Python_and_PySpark/data/retail_db_json'"
      ]
     },
     "execution_count": 54,
     "metadata": {},
     "output_type": "execute_result"
    }
   ],
   "source": [
    "base_dir"
   ]
  },
  {
   "cell_type": "code",
   "execution_count": 55,
   "metadata": {},
   "outputs": [
    {
     "name": "stdout",
     "output_type": "stream",
     "text": [
      "Processing {'/Users/woodzsan/Desktop/Machine Learning and Data Analysis/Data_Engineering_Essentials_using_SQL_Python_and_PySpark/data/retail_db/customers/part-00000'}\n",
      "Processing {'/Users/woodzsan/Desktop/Machine Learning and Data Analysis/Data_Engineering_Essentials_using_SQL_Python_and_PySpark/data/retail_db/products/part-00000'}\n",
      "Processing {'/Users/woodzsan/Desktop/Machine Learning and Data Analysis/Data_Engineering_Essentials_using_SQL_Python_and_PySpark/data/retail_db/departments/part-00000'}\n",
      "Processing {'/Users/woodzsan/Desktop/Machine Learning and Data Analysis/Data_Engineering_Essentials_using_SQL_Python_and_PySpark/data/retail_db/order_items/part-00000'}\n",
      "Processing {'/Users/woodzsan/Desktop/Machine Learning and Data Analysis/Data_Engineering_Essentials_using_SQL_Python_and_PySpark/data/retail_db/orders/part-00000'}\n",
      "Processing {'/Users/woodzsan/Desktop/Machine Learning and Data Analysis/Data_Engineering_Essentials_using_SQL_Python_and_PySpark/data/retail_db/categories/part-00000'}\n"
     ]
    }
   ],
   "source": [
    "for file in src_files:\n",
    "    print(f'Processing',{file})\n",
    "    file_path_list = re.split('[/]',file)\n",
    "    ds_name = file_path_list[-2]\n",
    "    file_name = file_path_list[-1]\n",
    "    json_file_path = f'{base_dir}/{ds_name}/{file_name}.json'\n",
    "    os.makedirs(f'{base_dir}/{ds_name}',exist_ok=True)\n",
    "    columns = get_column_names(schemas,ds_name)\n",
    "    df = pd.read_csv(file,header=None,names=columns)\n",
    "    df.to_json(json_file_path,orient='records',lines=True)"
   ]
  }
 ],
 "metadata": {
  "kernelspec": {
   "display_name": "Python 3",
   "language": "python",
   "name": "python3"
  },
  "language_info": {
   "codemirror_mode": {
    "name": "ipython",
    "version": 3
   },
   "file_extension": ".py",
   "mimetype": "text/x-python",
   "name": "python",
   "nbconvert_exporter": "python",
   "pygments_lexer": "ipython3",
   "version": "3.9.2"
  }
 },
 "nbformat": 4,
 "nbformat_minor": 2
}
